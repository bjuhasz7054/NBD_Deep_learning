{
  "nbformat": 4,
  "nbformat_minor": 0,
  "metadata": {
    "colab": {
      "name": "Beni55_background.ipynb",
      "provenance": [],
      "collapsed_sections": [],
      "authorship_tag": "ABX9TyOfjRNL+gXL9c0nGxIxnKzO",
      "include_colab_link": true
    },
    "kernelspec": {
      "name": "python3",
      "display_name": "Python 3"
    },
    "language_info": {
      "name": "python"
    },
    "accelerator": "GPU"
  },
  "cells": [
    {
      "cell_type": "markdown",
      "metadata": {
        "id": "view-in-github",
        "colab_type": "text"
      },
      "source": [
        "<a href=\"https://colab.research.google.com/github/bjuhasz7054/NBD_Deep_learning/blob/main/Latent_space_analysis_background_segmentation.ipynb\" target=\"_parent\"><img src=\"https://colab.research.google.com/assets/colab-badge.svg\" alt=\"Open In Colab\"/></a>"
      ]
    },
    {
      "cell_type": "code",
      "execution_count": null,
      "metadata": {
        "id": "vjXfSfB9cD2U"
      },
      "outputs": [],
      "source": [
        ""
      ]
    },
    {
      "cell_type": "code",
      "metadata": {
        "colab": {
          "base_uri": "https://localhost:8080/"
        },
        "id": "j-8VCxl_7Omi",
        "outputId": "e61d77d7-995b-45d4-a9dd-7770861877c0"
      },
      "source": [
        "from google.colab import drive\n",
        "drive.mount('/content/drive')"
      ],
      "execution_count": null,
      "outputs": [
        {
          "output_type": "stream",
          "name": "stdout",
          "text": [
            "Drive already mounted at /content/drive; to attempt to forcibly remount, call drive.mount(\"/content/drive\", force_remount=True).\n"
          ]
        }
      ]
    },
    {
      "cell_type": "markdown",
      "metadata": {
        "id": "ExauWCrbO3qY"
      },
      "source": [
        "Hyperparameters Config\n"
      ]
    },
    {
      "cell_type": "code",
      "metadata": {
        "id": "QH2chdQayQ96"
      },
      "source": [
        "RANDOM_SEED = 42\n",
        "TRAIN_TEST_SPLIT_RATIO = 0.8\n",
        "EPOCHS = 30\n",
        "TRAIN_BATCH_SIZE = 256\n",
        "VALIDATE_BATCH_SIZE = 256\n",
        "DECREASE_RATIO = 1.0\n",
        "PATIENCE=5\n",
        "LEARNING_RATE=0.001"
      ],
      "execution_count": null,
      "outputs": []
    },
    {
      "cell_type": "markdown",
      "metadata": {
        "id": "tnlYK2wr6EsG"
      },
      "source": [
        "# Load Data"
      ]
    },
    {
      "cell_type": "markdown",
      "metadata": {
        "id": "q2U-cYQUOx30"
      },
      "source": [
        "Download dataset and labels\n"
      ]
    },
    {
      "cell_type": "code",
      "metadata": {
        "id": "le9m_fWQwD8D"
      },
      "source": [
        "%%capture\n",
        "# download dataset\n",
        "!gdown --id 1Z1RqRo0_JiavaZw2yzZG6WETdZQ8qX86\n",
        "!unzip fairface-img-margin025-trainval.zip\n",
        "!rm fairface-img-margin025-trainval.zip\n",
        "\n",
        "# download labels\n",
        "!gdown --id 1i1L3Yqwaio7YSOCj7ftgk8ZZchPG7dmH\n",
        "!gdown --id 1wOdja-ezstMEp81tX1a-EYkFebev4h7D"
      ],
      "execution_count": null,
      "outputs": []
    },
    {
      "cell_type": "markdown",
      "metadata": {
        "id": "BUWTRUHzPXSV"
      },
      "source": [
        "Initialize dataframes"
      ]
    },
    {
      "cell_type": "code",
      "metadata": {
        "id": "PegTea4XwwDb"
      },
      "source": [
        "import pandas as pd \n",
        "\n",
        "def split_dataset(base_dataframe, fraction):\n",
        "  first = base_dataframe.sample(frac=fraction, random_state=RANDOM_SEED)\n",
        "  second = base_dataframe.drop(first.index)\n",
        "  return (first, second)\n",
        "\n",
        "initial_train_dataset, _ =  split_dataset(\n",
        "  base_dataframe=pd.read_csv(\n",
        "    \"fairface_label_train.csv\"\n",
        "  ),\n",
        "  fraction=DECREASE_RATIO\n",
        ")\n",
        "\n",
        "validate_labels_df, _ = split_dataset(\n",
        "  base_dataframe=pd.read_csv(\n",
        "    \"fairface_label_val.csv\"\n",
        "  ),\n",
        "  fraction=DECREASE_RATIO\n",
        ")\n",
        "\n",
        "train_labels_df, test_labels_df = split_dataset(\n",
        "  base_dataframe=initial_train_dataset,\n",
        "  fraction=TRAIN_TEST_SPLIT_RATIO\n",
        ")"
      ],
      "execution_count": null,
      "outputs": []
    },
    {
      "cell_type": "code",
      "metadata": {
        "id": "iUXY72M80n7J",
        "colab": {
          "base_uri": "https://localhost:8080/"
        },
        "outputId": "d821cb52-8f68-49d9-9bd9-fc699241741b"
      },
      "source": [
        "TRAIN_SIZE = len(train_labels_df)\n",
        "VALIDATE_SIZE = len(validate_labels_df)\n",
        "TEST_SIZE = len(test_labels_df)\n",
        "\n",
        "dataset_size = TRAIN_SIZE + VALIDATE_SIZE + TEST_SIZE\n",
        "print(f\"train percantage = {TRAIN_SIZE / dataset_size * 100}%\")\n",
        "print(f\"test percantage = {TEST_SIZE / dataset_size * 100}%\")\n",
        "print(f\"validate percantage = {VALIDATE_SIZE / dataset_size * 100}%\")"
      ],
      "execution_count": null,
      "outputs": [
        {
          "output_type": "stream",
          "name": "stdout",
          "text": [
            "train percantage = 71.03011320600217%\n",
            "test percantage = 17.757784192102193%\n",
            "validate percantage = 11.212102601895637%\n"
          ]
        }
      ]
    },
    {
      "cell_type": "code",
      "metadata": {
        "id": "QGnlj1OcxgYL",
        "colab": {
          "base_uri": "https://localhost:8080/",
          "height": 424
        },
        "outputId": "8e66763c-d693-4804-c258-a097a800ddae"
      },
      "source": [
        "train_labels_df"
      ],
      "execution_count": null,
      "outputs": [
        {
          "output_type": "execute_result",
          "data": {
            "text/html": [
              "<div>\n",
              "<style scoped>\n",
              "    .dataframe tbody tr th:only-of-type {\n",
              "        vertical-align: middle;\n",
              "    }\n",
              "\n",
              "    .dataframe tbody tr th {\n",
              "        vertical-align: top;\n",
              "    }\n",
              "\n",
              "    .dataframe thead th {\n",
              "        text-align: right;\n",
              "    }\n",
              "</style>\n",
              "<table border=\"1\" class=\"dataframe\">\n",
              "  <thead>\n",
              "    <tr style=\"text-align: right;\">\n",
              "      <th></th>\n",
              "      <th>file</th>\n",
              "      <th>age</th>\n",
              "      <th>gender</th>\n",
              "      <th>race</th>\n",
              "      <th>service_test</th>\n",
              "    </tr>\n",
              "  </thead>\n",
              "  <tbody>\n",
              "    <tr>\n",
              "      <th>82770</th>\n",
              "      <td>train/82771.jpg</td>\n",
              "      <td>10-19</td>\n",
              "      <td>Male</td>\n",
              "      <td>White</td>\n",
              "      <td>False</td>\n",
              "    </tr>\n",
              "    <tr>\n",
              "      <th>80112</th>\n",
              "      <td>train/80113.jpg</td>\n",
              "      <td>40-49</td>\n",
              "      <td>Male</td>\n",
              "      <td>Latino_Hispanic</td>\n",
              "      <td>False</td>\n",
              "    </tr>\n",
              "    <tr>\n",
              "      <th>23469</th>\n",
              "      <td>train/23470.jpg</td>\n",
              "      <td>40-49</td>\n",
              "      <td>Female</td>\n",
              "      <td>Latino_Hispanic</td>\n",
              "      <td>True</td>\n",
              "    </tr>\n",
              "    <tr>\n",
              "      <th>37598</th>\n",
              "      <td>train/37599.jpg</td>\n",
              "      <td>40-49</td>\n",
              "      <td>Female</td>\n",
              "      <td>East Asian</td>\n",
              "      <td>True</td>\n",
              "    </tr>\n",
              "    <tr>\n",
              "      <th>63855</th>\n",
              "      <td>train/63856.jpg</td>\n",
              "      <td>40-49</td>\n",
              "      <td>Male</td>\n",
              "      <td>East Asian</td>\n",
              "      <td>True</td>\n",
              "    </tr>\n",
              "    <tr>\n",
              "      <th>...</th>\n",
              "      <td>...</td>\n",
              "      <td>...</td>\n",
              "      <td>...</td>\n",
              "      <td>...</td>\n",
              "      <td>...</td>\n",
              "    </tr>\n",
              "    <tr>\n",
              "      <th>1887</th>\n",
              "      <td>train/1888.jpg</td>\n",
              "      <td>50-59</td>\n",
              "      <td>Female</td>\n",
              "      <td>Latino_Hispanic</td>\n",
              "      <td>False</td>\n",
              "    </tr>\n",
              "    <tr>\n",
              "      <th>85721</th>\n",
              "      <td>train/85722.jpg</td>\n",
              "      <td>40-49</td>\n",
              "      <td>Male</td>\n",
              "      <td>East Asian</td>\n",
              "      <td>False</td>\n",
              "    </tr>\n",
              "    <tr>\n",
              "      <th>12363</th>\n",
              "      <td>train/12364.jpg</td>\n",
              "      <td>20-29</td>\n",
              "      <td>Male</td>\n",
              "      <td>East Asian</td>\n",
              "      <td>True</td>\n",
              "    </tr>\n",
              "    <tr>\n",
              "      <th>38531</th>\n",
              "      <td>train/38532.jpg</td>\n",
              "      <td>10-19</td>\n",
              "      <td>Male</td>\n",
              "      <td>Latino_Hispanic</td>\n",
              "      <td>False</td>\n",
              "    </tr>\n",
              "    <tr>\n",
              "      <th>33590</th>\n",
              "      <td>train/33591.jpg</td>\n",
              "      <td>40-49</td>\n",
              "      <td>Female</td>\n",
              "      <td>Black</td>\n",
              "      <td>True</td>\n",
              "    </tr>\n",
              "  </tbody>\n",
              "</table>\n",
              "<p>69395 rows × 5 columns</p>\n",
              "</div>"
            ],
            "text/plain": [
              "                  file    age  gender             race  service_test\n",
              "82770  train/82771.jpg  10-19    Male            White         False\n",
              "80112  train/80113.jpg  40-49    Male  Latino_Hispanic         False\n",
              "23469  train/23470.jpg  40-49  Female  Latino_Hispanic          True\n",
              "37598  train/37599.jpg  40-49  Female       East Asian          True\n",
              "63855  train/63856.jpg  40-49    Male       East Asian          True\n",
              "...                ...    ...     ...              ...           ...\n",
              "1887    train/1888.jpg  50-59  Female  Latino_Hispanic         False\n",
              "85721  train/85722.jpg  40-49    Male       East Asian         False\n",
              "12363  train/12364.jpg  20-29    Male       East Asian          True\n",
              "38531  train/38532.jpg  10-19    Male  Latino_Hispanic         False\n",
              "33590  train/33591.jpg  40-49  Female            Black          True\n",
              "\n",
              "[69395 rows x 5 columns]"
            ]
          },
          "metadata": {},
          "execution_count": 15
        }
      ]
    },
    {
      "cell_type": "markdown",
      "metadata": {
        "id": "LP1YdedNPdD7"
      },
      "source": [
        "Encode categorical data to one-hot representation"
      ]
    },
    {
      "cell_type": "code",
      "metadata": {
        "id": "BG_pPLVN_0hG",
        "colab": {
          "base_uri": "https://localhost:8080/"
        },
        "outputId": "dbf339ba-ec46-413b-aa2d-51a7b094a1ec"
      },
      "source": [
        "class_columns=['age', 'race', 'gender']\n",
        "def one_hot_encode_data(dataframe,):\n",
        "  new_df=dataframe.copy()\n",
        "  for coloumn in class_columns[:-1]:\n",
        "    new_df[coloumn]=dataframe[coloumn].str.get_dummies().values.tolist()\n",
        "  new_df['gender']=(dataframe['gender'] == 'Male').astype(int)\n",
        "  return new_df\n",
        "\n",
        "oh_train_labels_df=one_hot_encode_data(train_labels_df)\n",
        "oh_validate_labels_df=one_hot_encode_data(validate_labels_df)\n",
        "oh_test_labels_df=one_hot_encode_data(test_labels_df)\n",
        "\n",
        "print(oh_train_labels_df[['age', 'race', 'gender']])"
      ],
      "execution_count": null,
      "outputs": [
        {
          "output_type": "stream",
          "name": "stdout",
          "text": [
            "                               age                   race  gender\n",
            "82770  [0, 1, 0, 0, 0, 0, 0, 0, 0]  [0, 0, 0, 0, 0, 0, 1]       1\n",
            "80112  [0, 0, 0, 0, 0, 1, 0, 0, 0]  [0, 0, 0, 1, 0, 0, 0]       1\n",
            "23469  [0, 0, 0, 0, 0, 1, 0, 0, 0]  [0, 0, 0, 1, 0, 0, 0]       0\n",
            "37598  [0, 0, 0, 0, 0, 1, 0, 0, 0]  [0, 1, 0, 0, 0, 0, 0]       0\n",
            "63855  [0, 0, 0, 0, 0, 1, 0, 0, 0]  [0, 1, 0, 0, 0, 0, 0]       1\n",
            "...                            ...                    ...     ...\n",
            "1887   [0, 0, 0, 0, 0, 0, 1, 0, 0]  [0, 0, 0, 1, 0, 0, 0]       0\n",
            "85721  [0, 0, 0, 0, 0, 1, 0, 0, 0]  [0, 1, 0, 0, 0, 0, 0]       1\n",
            "12363  [0, 0, 1, 0, 0, 0, 0, 0, 0]  [0, 1, 0, 0, 0, 0, 0]       1\n",
            "38531  [0, 1, 0, 0, 0, 0, 0, 0, 0]  [0, 0, 0, 1, 0, 0, 0]       1\n",
            "33590  [0, 0, 0, 0, 0, 1, 0, 0, 0]  [1, 0, 0, 0, 0, 0, 0]       0\n",
            "\n",
            "[69395 rows x 3 columns]\n"
          ]
        }
      ]
    },
    {
      "cell_type": "markdown",
      "metadata": {
        "id": "oumTEmK6aRuV"
      },
      "source": [
        "Encode categorical data to integer representation"
      ]
    },
    {
      "cell_type": "code",
      "metadata": {
        "id": "5-xwTm0bwHNV",
        "colab": {
          "base_uri": "https://localhost:8080/"
        },
        "outputId": "97018af7-9d4a-4967-de88-8080aa67511a"
      },
      "source": [
        "class_columns=['age', 'race', 'gender']\n",
        "def int_encode_data(dataframe):\n",
        "  new_df=dataframe.copy()\n",
        "  for coloumn in class_columns:\n",
        "    new_df[coloumn]=pd.factorize(dataframe[coloumn], sort=True)[0]\n",
        "  return new_df\n",
        "\n",
        "int_train_labels_df=int_encode_data(train_labels_df)\n",
        "int_validate_labels_df=int_encode_data(validate_labels_df)\n",
        "int_test_labels_df=int_encode_data(test_labels_df)\n",
        "\n",
        "print(int_train_labels_df[['age', 'race', 'gender']])  \n"
      ],
      "execution_count": null,
      "outputs": [
        {
          "output_type": "stream",
          "name": "stdout",
          "text": [
            "       age  race  gender\n",
            "82770    1     6       1\n",
            "80112    5     3       1\n",
            "23469    5     3       0\n",
            "37598    5     1       0\n",
            "63855    5     1       1\n",
            "...    ...   ...     ...\n",
            "1887     6     3       0\n",
            "85721    5     1       1\n",
            "12363    2     1       1\n",
            "38531    1     3       1\n",
            "33590    5     0       0\n",
            "\n",
            "[69395 rows x 3 columns]\n"
          ]
        }
      ]
    },
    {
      "cell_type": "markdown",
      "metadata": {
        "id": "exYoW0hdQLVN"
      },
      "source": [
        "Preprocess Image with JPEG compression"
      ]
    },
    {
      "cell_type": "code",
      "metadata": {
        "id": "NJ4pHWyh0AmL"
      },
      "source": [
        "import numpy as np\n",
        "import imgaug.augmenters as iaa\n",
        "from PIL import Image\n",
        "\n",
        "\n",
        "def jpeg_compress(np_image):\n",
        "  # This function can only work with this datatype\n",
        "  img_list = [np_image.astype(\"uint8\")]\n",
        "  \n",
        "  # 60 - 75 means, a quality of 40 - 25\n",
        "  seq_free = iaa.Sequential(\n",
        "    [iaa.JpegCompression(compression=(60, 75)),\n",
        "     iaa.CoarseDropout((0.0, 0.05), size_percent=(0.02, 0.25))]\n",
        "  )\n",
        "   \n",
        "  return seq_free(images=img_list)[0].astype(\"float32\")"
      ],
      "execution_count": null,
      "outputs": []
    },
    {
      "cell_type": "markdown",
      "metadata": {
        "id": "UAdX0DTSQPIf"
      },
      "source": [
        "Create Data Generators"
      ]
    },
    {
      "cell_type": "code",
      "metadata": {
        "id": "IACew7mHyf4s",
        "colab": {
          "base_uri": "https://localhost:8080/"
        },
        "outputId": "957726e9-55dc-418c-bbfa-608362a3f913"
      },
      "source": [
        "from keras.preprocessing.image import ImageDataGenerator\n",
        "import random \n",
        "import numpy as np\n",
        "\n",
        "\n",
        "train_datagen = ImageDataGenerator(\n",
        "  rotation_range=random.randint(40,90),\n",
        "  width_shift_range=0.2,\n",
        "  height_shift_range=0.2,\n",
        "  rescale=1./255,\n",
        "  shear_range=0.2,\n",
        "  zoom_range=0.2,\n",
        "  horizontal_flip=True,\n",
        "  fill_mode='nearest',\n",
        "  preprocessing_function = jpeg_compress\n",
        ")\n",
        "\n",
        "validate_datagen = ImageDataGenerator(rescale=1./255)\n",
        "test_datagen = ImageDataGenerator(rescale=1./255)\n",
        "\n",
        "common_generator_settings = {\n",
        "  \"x_col\": \"file\",\n",
        "  \"y_col\": ['age', 'race', 'gender'],\n",
        "  \"class_mode\": \"multi_output\",\n",
        "  \"seed\": RANDOM_SEED,\n",
        "  \"target_size\": (224, 224),\n",
        "  \"validate_filenames\": True\n",
        "}\n",
        "\n",
        "train_generator = train_datagen.flow_from_dataframe(\n",
        "  dataframe=oh_train_labels_df,\n",
        "  batch_size=TRAIN_BATCH_SIZE,\n",
        "  **common_generator_settings\n",
        ")\n",
        "\n",
        "test_generator = test_datagen.flow_from_dataframe(\n",
        "  dataframe=oh_test_labels_df,\n",
        "  batch_size=128,\n",
        "  **common_generator_settings,\n",
        "  shuffle=False\n",
        ")\n",
        "\n",
        "validate_generator = validate_datagen.flow_from_dataframe(\n",
        "  dataframe=oh_validate_labels_df,\n",
        "  batch_size=VALIDATE_BATCH_SIZE,\n",
        "  **common_generator_settings\n",
        ")"
      ],
      "execution_count": null,
      "outputs": [
        {
          "output_type": "stream",
          "name": "stdout",
          "text": [
            "Found 69395 validated image filenames.\n",
            "Found 17349 validated image filenames.\n",
            "Found 10954 validated image filenames.\n"
          ]
        }
      ]
    },
    {
      "cell_type": "markdown",
      "metadata": {
        "id": "RqJd_Clw6Q8l"
      },
      "source": [
        "# Create Model"
      ]
    },
    {
      "cell_type": "code",
      "metadata": {
        "id": "tZRo594S6Vli"
      },
      "source": [
        "%%capture\n",
        "!pip install keras_applications\n",
        "!pip install git+https://github.com/rcmalli/keras-vggface.git\n",
        "\n",
        "# fix spaghetti research package\n",
        "filename = \"/usr/local/lib/python3.7/dist-packages/keras_vggface/models.py\"\n",
        "text = open(filename).read()\n",
        "open(filename, \"w+\").write(text.replace('keras.engine.topology', 'tensorflow.keras.utils'))\n",
        "\n",
        "from keras_vggface.vggface import VGGFace"
      ],
      "execution_count": null,
      "outputs": []
    },
    {
      "cell_type": "code",
      "metadata": {
        "id": "zqHmmO1BXt2F"
      },
      "source": [
        "# view the logs with the help of TensorBoard (Hparams tab) -> we can download the table of data\n",
        "%load_ext tensorboard\n",
        "%tensorboard --logdir /tmp/tb_logs"
      ],
      "execution_count": null,
      "outputs": []
    },
    {
      "cell_type": "code",
      "source": [
        "from tensorflow.keras.models import Model\n",
        "from tensorflow.keras.layers import Dense, Dropout\n",
        "from tensorflow.keras.metrics import CategoricalAccuracy, BinaryAccuracy, Accuracy\n",
        "from tensorflow.keras.optimizers import Adam\n",
        "from tensorflow.keras.losses import BinaryCrossentropy, CategoricalCrossentropy\n",
        "\n",
        "vgg_features = VGGFace(include_top=False, input_shape=(224, 224, 3), pooling='avg')\n",
        "\n",
        "for layer in vgg_features.layers:\n",
        "      layer.trainable = False\n",
        "\n",
        "x = vgg_features.output\n",
        "\n",
        "x=Dense(640, activation='leaky_relu')(x)\n",
        "X=Dropout(0.2)(x)\n",
        "x=Dense(896, activation='relu')(x)\n",
        "X=Dropout(0.3)(x)\n",
        "x=Dense(2176, activation='tanh')(x)\n",
        "X=Dropout(0.4)(x)\n",
        "x=Dense(640, activation='relu')(x)\n",
        "X=Dropout(0.6)(x)\n",
        "x=Dense(1664, activation='relu')(x)\n",
        "X=Dropout(0.2)(x)\n",
        "\n",
        "# 3 outputs, one for each category\n",
        "age_output=Dense(9, activation='softmax', name='age')(x)\n",
        "race_output=Dense(7, activation='softmax', name='race')(x)\n",
        "gender_output=Dense(1, activation='sigmoid', name='gender')(x)\n",
        "\n",
        "\n",
        "# this is the model we will train\n",
        "model = Model(inputs=vgg_features.input, outputs=[age_output, race_output, gender_output])"
      ],
      "metadata": {
        "id": "8ucztO1mtVM4"
      },
      "execution_count": null,
      "outputs": []
    },
    {
      "cell_type": "code",
      "source": [
        "model.summary()"
      ],
      "metadata": {
        "id": "NTbhYKd91q2G",
        "colab": {
          "base_uri": "https://localhost:8080/"
        },
        "outputId": "222b28c0-bdac-4699-b647-80b49223d21c"
      },
      "execution_count": null,
      "outputs": [
        {
          "output_type": "stream",
          "name": "stdout",
          "text": [
            "Model: \"model\"\n",
            "__________________________________________________________________________________________________\n",
            " Layer (type)                   Output Shape         Param #     Connected to                     \n",
            "==================================================================================================\n",
            " input_1 (InputLayer)           [(None, 224, 224, 3  0           []                               \n",
            "                                )]                                                                \n",
            "                                                                                                  \n",
            " conv1_1 (Conv2D)               (None, 224, 224, 64  1792        ['input_1[0][0]']                \n",
            "                                )                                                                 \n",
            "                                                                                                  \n",
            " conv1_2 (Conv2D)               (None, 224, 224, 64  36928       ['conv1_1[0][0]']                \n",
            "                                )                                                                 \n",
            "                                                                                                  \n",
            " pool1 (MaxPooling2D)           (None, 112, 112, 64  0           ['conv1_2[0][0]']                \n",
            "                                )                                                                 \n",
            "                                                                                                  \n",
            " conv2_1 (Conv2D)               (None, 112, 112, 12  73856       ['pool1[0][0]']                  \n",
            "                                8)                                                                \n",
            "                                                                                                  \n",
            " conv2_2 (Conv2D)               (None, 112, 112, 12  147584      ['conv2_1[0][0]']                \n",
            "                                8)                                                                \n",
            "                                                                                                  \n",
            " pool2 (MaxPooling2D)           (None, 56, 56, 128)  0           ['conv2_2[0][0]']                \n",
            "                                                                                                  \n",
            " conv3_1 (Conv2D)               (None, 56, 56, 256)  295168      ['pool2[0][0]']                  \n",
            "                                                                                                  \n",
            " conv3_2 (Conv2D)               (None, 56, 56, 256)  590080      ['conv3_1[0][0]']                \n",
            "                                                                                                  \n",
            " conv3_3 (Conv2D)               (None, 56, 56, 256)  590080      ['conv3_2[0][0]']                \n",
            "                                                                                                  \n",
            " pool3 (MaxPooling2D)           (None, 28, 28, 256)  0           ['conv3_3[0][0]']                \n",
            "                                                                                                  \n",
            " conv4_1 (Conv2D)               (None, 28, 28, 512)  1180160     ['pool3[0][0]']                  \n",
            "                                                                                                  \n",
            " conv4_2 (Conv2D)               (None, 28, 28, 512)  2359808     ['conv4_1[0][0]']                \n",
            "                                                                                                  \n",
            " conv4_3 (Conv2D)               (None, 28, 28, 512)  2359808     ['conv4_2[0][0]']                \n",
            "                                                                                                  \n",
            " pool4 (MaxPooling2D)           (None, 14, 14, 512)  0           ['conv4_3[0][0]']                \n",
            "                                                                                                  \n",
            " conv5_1 (Conv2D)               (None, 14, 14, 512)  2359808     ['pool4[0][0]']                  \n",
            "                                                                                                  \n",
            " conv5_2 (Conv2D)               (None, 14, 14, 512)  2359808     ['conv5_1[0][0]']                \n",
            "                                                                                                  \n",
            " conv5_3 (Conv2D)               (None, 14, 14, 512)  2359808     ['conv5_2[0][0]']                \n",
            "                                                                                                  \n",
            " pool5 (MaxPooling2D)           (None, 7, 7, 512)    0           ['conv5_3[0][0]']                \n",
            "                                                                                                  \n",
            " global_average_pooling2d (Glob  (None, 512)         0           ['pool5[0][0]']                  \n",
            " alAveragePooling2D)                                                                              \n",
            "                                                                                                  \n",
            " dense (Dense)                  (None, 640)          328320      ['global_average_pooling2d[0][0]'\n",
            "                                                                 ]                                \n",
            "                                                                                                  \n",
            " dense_1 (Dense)                (None, 896)          574336      ['dense[0][0]']                  \n",
            "                                                                                                  \n",
            " dense_2 (Dense)                (None, 2176)         1951872     ['dense_1[0][0]']                \n",
            "                                                                                                  \n",
            " dense_3 (Dense)                (None, 640)          1393280     ['dense_2[0][0]']                \n",
            "                                                                                                  \n",
            " dense_4 (Dense)                (None, 1664)         1066624     ['dense_3[0][0]']                \n",
            "                                                                                                  \n",
            " age (Dense)                    (None, 9)            14985       ['dense_4[0][0]']                \n",
            "                                                                                                  \n",
            " race (Dense)                   (None, 7)            11655       ['dense_4[0][0]']                \n",
            "                                                                                                  \n",
            " gender (Dense)                 (None, 1)            1665        ['dense_4[0][0]']                \n",
            "                                                                                                  \n",
            "==================================================================================================\n",
            "Total params: 20,057,425\n",
            "Trainable params: 5,342,737\n",
            "Non-trainable params: 14,714,688\n",
            "__________________________________________________________________________________________________\n"
          ]
        }
      ]
    },
    {
      "cell_type": "markdown",
      "metadata": {
        "id": "g93nwycshknT"
      },
      "source": [
        "#Train Model"
      ]
    },
    {
      "cell_type": "code",
      "metadata": {
        "id": "zkWL41c9J4Iq"
      },
      "source": [
        "from tensorflow.keras.callbacks import EarlyStopping, ModelCheckpoint\n",
        "\n",
        "early_stopping=EarlyStopping(patience=PATIENCE, verbose=1)\n",
        "checkpointer=ModelCheckpoint(filepath='/content/drive/MyDrive/figures/final_model.hdf5', save_best_only=True, verbose=1)"
      ],
      "execution_count": null,
      "outputs": []
    },
    {
      "cell_type": "markdown",
      "metadata": {
        "id": "ygwUTzrkU8Tp"
      },
      "source": [
        "Setup class weights (by category) since dataset is imbalanced"
      ]
    },
    {
      "cell_type": "code",
      "metadata": {
        "id": "whA2kaWhbdKA"
      },
      "source": [
        "from sklearn.utils import class_weight\n",
        "import numpy as np\n",
        "from keras.utils import np_utils\n",
        "import keras.backend as K\n",
        "from itertools import product\n",
        "\n",
        "def weight_classes(dataframe_column):\n",
        "  return class_weight.compute_class_weight(\n",
        "    'balanced',\n",
        "    classes=pd.unique(dataframe_column),\n",
        "    y=dataframe_column\n",
        "  )\n",
        "\n",
        "age_class_weights_np = weight_classes(train_labels_df.age)\n",
        "race_class_weights_np = weight_classes(train_labels_df.race)\n",
        "gender_class_weights_np = weight_classes(train_labels_df.gender)"
      ],
      "execution_count": null,
      "outputs": []
    },
    {
      "cell_type": "markdown",
      "metadata": {
        "id": "VFGaeUCDam6l"
      },
      "source": [
        "Custom loss function"
      ]
    },
    {
      "cell_type": "code",
      "metadata": {
        "id": "3aTI7lCD6DCV"
      },
      "source": [
        "import tensorflow as tf\n",
        "from keras import backend as K\n",
        "def weighted_categorical_crossentropy(weights):\n",
        "    \"\"\"\n",
        "    A weighted version of keras.objectives.categorical_crossentropy\n",
        "    \n",
        "    Variables:\n",
        "        weights: numpy array of shape (C,) where C is the number of classes\n",
        "    \"\"\"\n",
        "    \n",
        "    weights = K.variable(weights)\n",
        "        \n",
        "    def loss(y_true, y_pred):\n",
        "        # scale predictions so that the class probas of each sample sum to 1\n",
        "        y_pred /= K.sum(y_pred, axis=-1, keepdims=True)\n",
        "        # clip to prevent NaN's and Inf's\n",
        "        y_pred = K.clip(y_pred, K.epsilon(), 1 - K.epsilon())\n",
        "        # calc\n",
        "        loss = tf.dtypes.cast(y_true, tf.float64) * tf.dtypes.cast(K.log(y_pred), tf.float64) * tf.dtypes.cast(weights, tf.float64)\n",
        "        loss = -K.sum(loss, -1)\n",
        "        return loss\n",
        "    \n",
        "    return loss"
      ],
      "execution_count": null,
      "outputs": []
    },
    {
      "cell_type": "code",
      "metadata": {
        "id": "-g3y1kKlolI9"
      },
      "source": [
        "# Gender is not weighted because the relevant dataset is very close to balanced\n",
        "loss_age = weighted_categorical_crossentropy(age_class_weights_np)\n",
        "loss_race = weighted_categorical_crossentropy(race_class_weights_np)"
      ],
      "execution_count": null,
      "outputs": []
    },
    {
      "cell_type": "markdown",
      "metadata": {
        "id": "qq48QwQxavdF"
      },
      "source": [
        "Compile the model"
      ]
    },
    {
      "cell_type": "code",
      "metadata": {
        "id": "QpiKt21BCk19"
      },
      "source": [
        "from tensorflow.keras.metrics import CategoricalAccuracy, BinaryAccuracy, Accuracy\n",
        "from tensorflow.keras.optimizers import Adam\n",
        "from tensorflow.keras.losses import BinaryCrossentropy, CategoricalCrossentropy\n",
        "\n",
        "model.compile(\n",
        "  optimizer=Adam(learning_rate=LEARNING_RATE),\n",
        "  metrics=[Accuracy(), BinaryAccuracy(), CategoricalAccuracy()],\n",
        "  loss={\n",
        "      'age': loss_age,\n",
        "      'race': loss_race,\n",
        "      'gender': BinaryCrossentropy()\n",
        "  }\n",
        ")"
      ],
      "execution_count": null,
      "outputs": []
    },
    {
      "cell_type": "code",
      "source": [
        "from tensorflow import keras\n",
        "model.load_weights(\"/content/drive/MyDrive/figures/final_model.hdf5\")\n",
        "model.summary()"
      ],
      "metadata": {
        "id": "kQinmctsz_kt",
        "colab": {
          "base_uri": "https://localhost:8080/"
        },
        "outputId": "d1e55e9a-0b46-495f-dc4c-51d5d8fdfa54"
      },
      "execution_count": null,
      "outputs": [
        {
          "output_type": "stream",
          "name": "stdout",
          "text": [
            "Model: \"model\"\n",
            "__________________________________________________________________________________________________\n",
            " Layer (type)                   Output Shape         Param #     Connected to                     \n",
            "==================================================================================================\n",
            " input_1 (InputLayer)           [(None, 224, 224, 3  0           []                               \n",
            "                                )]                                                                \n",
            "                                                                                                  \n",
            " conv1_1 (Conv2D)               (None, 224, 224, 64  1792        ['input_1[0][0]']                \n",
            "                                )                                                                 \n",
            "                                                                                                  \n",
            " conv1_2 (Conv2D)               (None, 224, 224, 64  36928       ['conv1_1[0][0]']                \n",
            "                                )                                                                 \n",
            "                                                                                                  \n",
            " pool1 (MaxPooling2D)           (None, 112, 112, 64  0           ['conv1_2[0][0]']                \n",
            "                                )                                                                 \n",
            "                                                                                                  \n",
            " conv2_1 (Conv2D)               (None, 112, 112, 12  73856       ['pool1[0][0]']                  \n",
            "                                8)                                                                \n",
            "                                                                                                  \n",
            " conv2_2 (Conv2D)               (None, 112, 112, 12  147584      ['conv2_1[0][0]']                \n",
            "                                8)                                                                \n",
            "                                                                                                  \n",
            " pool2 (MaxPooling2D)           (None, 56, 56, 128)  0           ['conv2_2[0][0]']                \n",
            "                                                                                                  \n",
            " conv3_1 (Conv2D)               (None, 56, 56, 256)  295168      ['pool2[0][0]']                  \n",
            "                                                                                                  \n",
            " conv3_2 (Conv2D)               (None, 56, 56, 256)  590080      ['conv3_1[0][0]']                \n",
            "                                                                                                  \n",
            " conv3_3 (Conv2D)               (None, 56, 56, 256)  590080      ['conv3_2[0][0]']                \n",
            "                                                                                                  \n",
            " pool3 (MaxPooling2D)           (None, 28, 28, 256)  0           ['conv3_3[0][0]']                \n",
            "                                                                                                  \n",
            " conv4_1 (Conv2D)               (None, 28, 28, 512)  1180160     ['pool3[0][0]']                  \n",
            "                                                                                                  \n",
            " conv4_2 (Conv2D)               (None, 28, 28, 512)  2359808     ['conv4_1[0][0]']                \n",
            "                                                                                                  \n",
            " conv4_3 (Conv2D)               (None, 28, 28, 512)  2359808     ['conv4_2[0][0]']                \n",
            "                                                                                                  \n",
            " pool4 (MaxPooling2D)           (None, 14, 14, 512)  0           ['conv4_3[0][0]']                \n",
            "                                                                                                  \n",
            " conv5_1 (Conv2D)               (None, 14, 14, 512)  2359808     ['pool4[0][0]']                  \n",
            "                                                                                                  \n",
            " conv5_2 (Conv2D)               (None, 14, 14, 512)  2359808     ['conv5_1[0][0]']                \n",
            "                                                                                                  \n",
            " conv5_3 (Conv2D)               (None, 14, 14, 512)  2359808     ['conv5_2[0][0]']                \n",
            "                                                                                                  \n",
            " pool5 (MaxPooling2D)           (None, 7, 7, 512)    0           ['conv5_3[0][0]']                \n",
            "                                                                                                  \n",
            " global_average_pooling2d (Glob  (None, 512)         0           ['pool5[0][0]']                  \n",
            " alAveragePooling2D)                                                                              \n",
            "                                                                                                  \n",
            " dense (Dense)                  (None, 640)          328320      ['global_average_pooling2d[0][0]'\n",
            "                                                                 ]                                \n",
            "                                                                                                  \n",
            " dense_1 (Dense)                (None, 896)          574336      ['dense[0][0]']                  \n",
            "                                                                                                  \n",
            " dense_2 (Dense)                (None, 2176)         1951872     ['dense_1[0][0]']                \n",
            "                                                                                                  \n",
            " dense_3 (Dense)                (None, 640)          1393280     ['dense_2[0][0]']                \n",
            "                                                                                                  \n",
            " dense_4 (Dense)                (None, 1664)         1066624     ['dense_3[0][0]']                \n",
            "                                                                                                  \n",
            " age (Dense)                    (None, 9)            14985       ['dense_4[0][0]']                \n",
            "                                                                                                  \n",
            " race (Dense)                   (None, 7)            11655       ['dense_4[0][0]']                \n",
            "                                                                                                  \n",
            " gender (Dense)                 (None, 1)            1665        ['dense_4[0][0]']                \n",
            "                                                                                                  \n",
            "==================================================================================================\n",
            "Total params: 20,057,425\n",
            "Trainable params: 5,342,737\n",
            "Non-trainable params: 14,714,688\n",
            "__________________________________________________________________________________________________\n"
          ]
        }
      ]
    },
    {
      "cell_type": "markdown",
      "source": [
        "###Latent space analysis"
      ],
      "metadata": {
        "id": "fIy44lKpcevd"
      }
    },
    {
      "cell_type": "code",
      "source": [
        "from sklearn.metrics import classification_report, confusion_matrix\n",
        "from keras.models import load_model\n",
        "# load best model\n",
        "test_model = load_model(\"/content/drive/MyDrive/figures/final_model.hdf5\", custom_objects={'loss': weighted_categorical_crossentropy})\n",
        "#Age_pred, Race_pred, Gender_pred = test_model.predict(test_generator)"
      ],
      "metadata": {
        "id": "xInUpUEmciNN"
      },
      "execution_count": null,
      "outputs": []
    },
    {
      "cell_type": "markdown",
      "source": [
        "Selecting the convolutional layers as an encoder"
      ],
      "metadata": {
        "id": "sQuIefDuV76g"
      }
    },
    {
      "cell_type": "code",
      "source": [
        "layers=test_model.layers[1:-8]\n",
        "x=test_model.input\n",
        "for layer in layers:\n",
        "    x=layer(x)\n",
        "\n",
        "trained_encoder=keras.Model(test_model.input, x)\n",
        "\n",
        "trained_encoder.summary()"
      ],
      "metadata": {
        "id": "8vjVEEAFdEqr"
      },
      "execution_count": null,
      "outputs": []
    },
    {
      "cell_type": "markdown",
      "source": [
        "#Modified image analysis"
      ],
      "metadata": {
        "id": "CzWXv9sJ62Rv"
      }
    },
    {
      "cell_type": "markdown",
      "source": [
        "There are 3 kinds of input images:\n",
        "- Original iamges, without any modification\n",
        "- Modified images, with the face not even visible\n",
        "- Modified images, with segmented background"
      ],
      "metadata": {
        "id": "pTSB2DX2WCYF"
      }
    },
    {
      "cell_type": "markdown",
      "source": [
        "Reading in the different images"
      ],
      "metadata": {
        "id": "UOxVaYbhkTYj"
      }
    },
    {
      "cell_type": "code",
      "metadata": {
        "id": "TUCJZvbW64Ps",
        "colab": {
          "base_uri": "https://localhost:8080/"
        },
        "outputId": "78318fdb-0ac4-4287-fdd5-b9c47839f3c4"
      },
      "source": [
        "from PIL import Image\n",
        "import os\n",
        "import numpy as np\n",
        "def get_non_zero_columns(numpy_array, epsilon = 0.001):\n",
        "  columns = []\n",
        "  for i in range(len(numpy_array)):\n",
        "    if not (numpy_array[i]<epsilon and numpy_array[i]>-epsilon):\n",
        "      columns.append(i)\n",
        "  return columns\n",
        "\n",
        "\n",
        "def get_absolute_non_zero_colum(numpy_array, epsilon = 0.0001):\n",
        "  columns = []\n",
        "  for i in range(len(numpy_array)):\n",
        "    if numpy_array[i]>epsilon:\n",
        "      columns.append(i)\n",
        "  return columns\n",
        "def load_images_from_directory(directory_path):\n",
        "\n",
        "  loaded_image_list = []\n",
        "  name_list = os.listdir(directory_path)\n",
        "  name_list.sort()\n",
        "  print(name_list)\n",
        "  for image_name in name_list:\n",
        "    if image_name.endswith('jpg') or image_name.endswith('png'):\n",
        "      loaded_image = np.asarray(Image.open(os.path.join(directory_path,image_name)).resize((224,224)))\n",
        "      \n",
        "      loaded_image = loaded_image/255.0\n",
        "      print(loaded_image.shape)\n",
        "      loaded_image_list.append(np.expand_dims(loaded_image, axis = 0))\n",
        "\n",
        "  return np.vstack(loaded_image_list)\n",
        "\n",
        "original_inputs = load_images_from_directory(\"/content/drive/MyDrive/Latent_Space_Analysis/Original_images_2/\")\n",
        "\n",
        "original_inputs.shape\n"
      ],
      "execution_count": null,
      "outputs": [
        {
          "output_type": "stream",
          "name": "stdout",
          "text": [
            "['100.jpg', '10019.jpg', '10020.jpg', '10042.jpg', '10078.jpg', '10110.jpg']\n",
            "(224, 224, 3)\n",
            "(224, 224, 3)\n",
            "(224, 224, 3)\n",
            "(224, 224, 3)\n",
            "(224, 224, 3)\n",
            "(224, 224, 3)\n"
          ]
        },
        {
          "output_type": "execute_result",
          "data": {
            "text/plain": [
              "(6, 224, 224, 3)"
            ]
          },
          "metadata": {},
          "execution_count": 32
        }
      ]
    },
    {
      "cell_type": "code",
      "metadata": {
        "id": "EAHdFMwL64Pt",
        "colab": {
          "base_uri": "https://localhost:8080/"
        },
        "outputId": "07e237f4-2c1a-4343-99b7-3b5374711977"
      },
      "source": [
        "\n",
        "\n",
        "\n",
        "original_embedding=np.empty((6,4096))\n",
        "\n",
        "original_embedding=trained_encoder.predict(original_inputs)\n",
        "original_embedding.shape"
      ],
      "execution_count": null,
      "outputs": [
        {
          "output_type": "execute_result",
          "data": {
            "text/plain": [
              "(6, 512)"
            ]
          },
          "metadata": {},
          "execution_count": 33
        }
      ]
    },
    {
      "cell_type": "code",
      "metadata": {
        "id": "_ZrpzNhr64Pu"
      },
      "source": [
        "modified_inputs_blacked = load_images_from_directory(\"/content/drive/MyDrive/Latent_Space_Analysis/Modified_image_blacked/\")\n",
        "\n",
        "modified_inputs_blacked.shape"
      ],
      "execution_count": null,
      "outputs": []
    },
    {
      "cell_type": "code",
      "metadata": {
        "id": "0IVUdnzx64Pu"
      },
      "source": [
        "\n",
        "\n",
        "modified_embedding_blacked=trained_encoder.predict(modified_inputs_blacked)\n"
      ],
      "execution_count": null,
      "outputs": []
    },
    {
      "cell_type": "code",
      "metadata": {
        "id": "MYI-gw9skrSn",
        "colab": {
          "base_uri": "https://localhost:8080/"
        },
        "outputId": "5ebc9bf5-d382-4c96-ab8f-6f9bb02ae43f"
      },
      "source": [
        "modified_inputs_background = load_images_from_directory(\"/content/drive/MyDrive/Latent_Space_Analysis/Modified_images_background/\")\n",
        "\n",
        "modified_inputs_background.shape"
      ],
      "execution_count": null,
      "outputs": [
        {
          "output_type": "stream",
          "name": "stdout",
          "text": [
            "['100.jpg', '10019.jpg', '10020.jpg', '10042.jpg', '10078.jpg', '10110.jpg']\n",
            "(224, 224, 3)\n",
            "(224, 224, 3)\n",
            "(224, 224, 3)\n",
            "(224, 224, 3)\n",
            "(224, 224, 3)\n",
            "(224, 224, 3)\n"
          ]
        },
        {
          "output_type": "execute_result",
          "data": {
            "text/plain": [
              "(6, 224, 224, 3)"
            ]
          },
          "metadata": {},
          "execution_count": 36
        }
      ]
    },
    {
      "cell_type": "code",
      "metadata": {
        "id": "rumaaqfUkrSu"
      },
      "source": [
        "modified_embedding_background=np.empty((6,512))\n",
        "\n",
        "modified_embedding_background=trained_encoder.predict(modified_inputs_background)\n"
      ],
      "execution_count": null,
      "outputs": []
    },
    {
      "cell_type": "markdown",
      "source": [
        "Showing the 3 different input images"
      ],
      "metadata": {
        "id": "dfidLnu9kaoi"
      }
    },
    {
      "cell_type": "code",
      "source": [
        "from matplotlib import pyplot as plt\n",
        "plt.imshow(original_inputs[4])\n",
        "plt.show()"
      ],
      "metadata": {
        "id": "f747UF7S61ze"
      },
      "execution_count": null,
      "outputs": []
    },
    {
      "cell_type": "code",
      "source": [
        "from matplotlib import pyplot as plt\n",
        "plt.imshow(modified_inputs_blacked[4])\n",
        "plt.show()"
      ],
      "metadata": {
        "id": "p2PKTjj2ZMw-",
        "colab": {
          "base_uri": "https://localhost:8080/",
          "height": 269
        },
        "outputId": "ec544f6f-824e-42ff-8f21-fcdd1468c193"
      },
      "execution_count": null,
      "outputs": [
        {
          "output_type": "display_data",
          "data": {
            "image/png": "[encoded data removed]",
            "text/plain": [
              "<Figure size 432x288 with 1 Axes>"
            ]
          },
          "metadata": {
            "needs_background": "light"
          }
        }
      ]
    },
    {
      "cell_type": "code",
      "source": [
        "from matplotlib import pyplot as plt\n",
        "plt.imshow(modified_inputs_background[4])\n",
        "plt.show()"
      ],
      "metadata": {
        "id": "NI4U7N1m4abf",
        "colab": {
          "base_uri": "https://localhost:8080/",
          "height": 269
        },
        "outputId": "c21e0f3b-a04c-4383-9b7e-ae8b3d812cc4"
      },
      "execution_count": null,
      "outputs": [
        {
          "output_type": "display_data",
          "data": {
            "image/png": "[encoded data removed]",
            "text/plain": [
              "<Figure size 432x288 with 1 Axes>"
            ]
          },
          "metadata": {
            "needs_background": "light"
          }
        }
      ]
    },
    {
      "cell_type": "code",
      "source": [
        "for i in range(len(original_embedding)):\n",
        "  print(len(get_absolute_non_zero_colum(original_embedding[i]))) #This is a simple check if the conv layers have actual non zero outputs"
      ],
      "metadata": {
        "id": "k8Q_mM4FXdlC",
        "colab": {
          "base_uri": "https://localhost:8080/"
        },
        "outputId": "7727a5f0-f249-424f-9342-fd327eafd5db"
      },
      "execution_count": null,
      "outputs": [
        {
          "metadata": {
            "tags": null
          },
          "name": "stdout",
          "output_type": "stream",
          "text": [
            "484\n",
            "468\n",
            "412\n",
            "482\n",
            "445\n",
            "480\n"
          ]
        }
      ]
    },
    {
      "cell_type": "code",
      "source": [
        "for i in range(len(modified_embedding_blacked)):\n",
        "  print(len(get_absolute_non_zero_colum(modified_embedding_blacked[i]))) #This is a simple check if the conv layers have actual non zero outputs"
      ],
      "metadata": {
        "id": "C6fi6Qo5Yq1i",
        "colab": {
          "base_uri": "https://localhost:8080/"
        },
        "outputId": "af2752fa-2235-428b-e301-bea66a3effbc"
      },
      "execution_count": null,
      "outputs": [
        {
          "output_type": "stream",
          "name": "stdout",
          "text": [
            "366\n",
            "387\n",
            "320\n",
            "334\n",
            "364\n",
            "400\n"
          ]
        }
      ]
    },
    {
      "cell_type": "code",
      "source": [
        "for i in range(len(modified_embedding_background)):\n",
        "  print(len(get_absolute_non_zero_colum(modified_embedding_background[i]))) #This is a simple check if the conv layers have actual non zero outputs"
      ],
      "metadata": {
        "id": "qLxoyN0rWt5W",
        "colab": {
          "base_uri": "https://localhost:8080/"
        },
        "outputId": "977d02ac-b24a-4c96-d39a-6d33ce08cccf"
      },
      "execution_count": null,
      "outputs": [
        {
          "output_type": "stream",
          "name": "stdout",
          "text": [
            "471\n",
            "462\n",
            "388\n",
            "474\n",
            "409\n",
            "476\n"
          ]
        }
      ]
    },
    {
      "cell_type": "markdown",
      "source": [
        "Predictions for the changed backgrounds:"
      ],
      "metadata": {
        "id": "N9Z-awjfYW2W"
      }
    },
    {
      "cell_type": "code",
      "source": [
        "predictions = test_model.predict(np.vstack((modified_inputs_background, original_inputs)))\n"
      ],
      "metadata": {
        "id": "yhvlRA8O889f"
      },
      "execution_count": null,
      "outputs": []
    },
    {
      "cell_type": "code",
      "source": [
        "predictions[0]\n",
        "age_output = []\n",
        "for i in range(len(predictions[0])):\n",
        "  age_output.append(np.argmax(predictions[0][i]))"
      ],
      "metadata": {
        "id": "FoQsRMvZaVM1"
      },
      "execution_count": null,
      "outputs": []
    },
    {
      "cell_type": "code",
      "source": [
        "age_output"
      ],
      "metadata": {
        "id": "318P0hIOqUWy",
        "colab": {
          "base_uri": "https://localhost:8080/"
        },
        "outputId": "029a2c21-34ac-4949-80ce-aaa45790e33c"
      },
      "execution_count": null,
      "outputs": [
        {
          "output_type": "execute_result",
          "data": {
            "text/plain": [
              "[2, 2, 2, 2, 2, 4, 2, 2, 2, 2, 2, 4]"
            ]
          },
          "metadata": {},
          "execution_count": 46
        }
      ]
    },
    {
      "cell_type": "code",
      "source": [
        "number_of_images = 6\n",
        "print(\"Modified images - background, Original image\")\n",
        "for i in range(len(predictions[0])-number_of_images):\n",
        "  print(predictions[0][i][age_output[i]], predictions[0][i+number_of_images][age_output[i+number_of_images]]) \n"
      ],
      "metadata": {
        "id": "-jLPvCJk-GTG",
        "colab": {
          "base_uri": "https://localhost:8080/"
        },
        "outputId": "2fb05550-7554-4f1b-b73e-d841908d07ea"
      },
      "execution_count": null,
      "outputs": [
        {
          "output_type": "stream",
          "name": "stdout",
          "text": [
            "Modified images - background, Original image\n",
            "0.5502591 0.58193994\n",
            "0.5951768 0.5315112\n",
            "0.49059153 0.44213295\n",
            "0.5059679 0.3931392\n",
            "0.5433812 0.4532396\n",
            "0.56322575 0.59928614\n"
          ]
        }
      ]
    },
    {
      "cell_type": "code",
      "source": [
        "#Selecting the embeddings which contain useful information:\n",
        "modified_embedding_background_filtered = [modified_embedding_background[1], modified_embedding_background[2], modified_embedding_background[3],modified_embedding_background[4]]"
      ],
      "metadata": {
        "id": "Rq0o_9QUZNzs"
      },
      "execution_count": null,
      "outputs": []
    },
    {
      "cell_type": "markdown",
      "source": [
        "Predictions for the images without face:"
      ],
      "metadata": {
        "id": "3sQeT1TVYsEc"
      }
    },
    {
      "cell_type": "code",
      "source": [
        "predictions = test_model.predict(np.vstack((modified_inputs_blacked, original_inputs)))\n"
      ],
      "metadata": {
        "id": "7-Ro18EMYsEc"
      },
      "execution_count": null,
      "outputs": []
    },
    {
      "cell_type": "code",
      "source": [
        "predictions[0]\n",
        "age_output = []\n",
        "for i in range(len(predictions[0])):\n",
        "  age_output.append(np.argmax(predictions[0][i]))"
      ],
      "metadata": {
        "id": "qeQWK2RSYsEc"
      },
      "execution_count": null,
      "outputs": []
    },
    {
      "cell_type": "code",
      "source": [
        "age_output"
      ],
      "metadata": {
        "colab": {
          "base_uri": "https://localhost:8080/"
        },
        "outputId": "b64fa004-10fc-40fb-bda1-35a0cb121b77",
        "id": "wm3Cn6jaYsEd"
      },
      "execution_count": null,
      "outputs": [
        {
          "output_type": "execute_result",
          "data": {
            "text/plain": [
              "[2, 6, 2, 2, 2, 2, 2, 2, 2, 2, 2, 4]"
            ]
          },
          "metadata": {},
          "execution_count": 58
        }
      ]
    },
    {
      "cell_type": "code",
      "source": [
        "number_of_images = 6\n",
        "print(\"Modified images - blacked, Original image\")\n",
        "for i in range(len(predictions[0])-number_of_images):\n",
        "  if (age_output[i]!=age_output[i+number_of_images]):\n",
        "    print(\"Change in final prediction:\")\n",
        "  print(predictions[0][i][age_output[i]], predictions[0][i+number_of_images][age_output[i+number_of_images]]) \n"
      ],
      "metadata": {
        "colab": {
          "base_uri": "https://localhost:8080/"
        },
        "outputId": "5f95e56a-c20b-4a75-b3c9-6b6ecc520369",
        "id": "3bH1QjoLYsEd"
      },
      "execution_count": null,
      "outputs": [
        {
          "output_type": "stream",
          "name": "stdout",
          "text": [
            "Modified images - blacked, Original image\n",
            "0.31701773 0.58193994\n",
            "Change in final prediction:\n",
            "0.2398572 0.5315112\n",
            "0.26494592 0.44213295\n",
            "0.33171085 0.3931392\n",
            "0.3805827 0.4532396\n",
            "Change in final prediction:\n",
            "0.29895654 0.59928614\n"
          ]
        }
      ]
    },
    {
      "cell_type": "markdown",
      "source": [
        "#How many features are the same"
      ],
      "metadata": {
        "id": "skHHMw8FItId"
      }
    },
    {
      "cell_type": "markdown",
      "source": [
        "Covered faces - how many features are close to the original"
      ],
      "metadata": {
        "id": "X6BhIi32bh30"
      }
    },
    {
      "cell_type": "code",
      "source": [
        "def how_many_columns_are_same(original, modified, epsilon = 0.01):\n",
        "  columns = []\n",
        "  for i in range(len(original)):\n",
        "    if (original[i]  > 0.000001 and modified[i]> 0.000001) or (original[i]  < -0.000001 and modified[i]  < -0.000001):\n",
        "     if original[i] - epsilon < modified[i] and original[i] + epsilon > modified[i]:\n",
        "        columns.append(i)\n",
        "  return columns\n",
        "\n",
        "same_columns_blacked =[]     \n",
        "for i in range(len(modified_embedding_background)):\n",
        "    same_columns_blacked.append(how_many_columns_are_same(original_embedding[i], modified_embedding_blacked[i]))\n",
        "    print(same_columns_blacked[-1])"
      ],
      "metadata": {
        "id": "A10ZnHG2hz1L",
        "colab": {
          "base_uri": "https://localhost:8080/"
        },
        "outputId": "018ee3b6-0dec-47b9-fbd2-5077bdf348a0"
      },
      "execution_count": null,
      "outputs": [
        {
          "output_type": "stream",
          "name": "stdout",
          "text": [
            "[0, 1, 2, 4, 6, 7, 10, 11, 12, 16, 17, 19, 20, 22, 25, 28, 29, 31, 33, 34, 38, 41, 42, 44, 49, 55, 56, 60, 61, 63, 69, 70, 71, 73, 74, 76, 77, 78, 79, 80, 81, 83, 86, 88, 90, 94, 97, 99, 102, 103, 104, 110, 114, 119, 123, 125, 129, 133, 134, 135, 136, 138, 139, 140, 143, 144, 146, 147, 151, 156, 159, 160, 162, 164, 165, 166, 169, 171, 173, 177, 178, 180, 182, 184, 186, 187, 188, 189, 192, 200, 201, 208, 210, 211, 212, 213, 218, 219, 220, 221, 226, 228, 231, 233, 234, 235, 236, 237, 240, 243, 244, 245, 247, 249, 254, 255, 256, 260, 266, 268, 272, 275, 280, 281, 286, 288, 289, 291, 292, 294, 296, 298, 300, 303, 306, 307, 308, 310, 314, 317, 318, 322, 324, 325, 328, 333, 334, 338, 340, 346, 347, 350, 354, 356, 357, 358, 360, 361, 362, 363, 364, 371, 374, 376, 377, 379, 380, 381, 383, 386, 387, 389, 390, 395, 397, 399, 400, 403, 405, 407, 408, 411, 412, 414, 415, 419, 421, 426, 428, 430, 431, 434, 437, 438, 442, 447, 450, 451, 453, 455, 459, 460, 462, 467, 468, 469, 470, 475, 477, 478, 482, 483, 486, 492, 493, 495, 496, 500, 502, 504, 505, 506]\n",
            "[0, 1, 5, 9, 11, 12, 15, 17, 19, 20, 28, 29, 30, 31, 32, 33, 37, 40, 44, 45, 46, 47, 48, 49, 55, 57, 60, 62, 66, 68, 69, 71, 72, 73, 74, 76, 78, 81, 86, 89, 90, 95, 98, 101, 102, 104, 106, 111, 114, 116, 119, 123, 131, 135, 137, 138, 139, 141, 142, 143, 148, 150, 151, 152, 155, 156, 158, 160, 161, 162, 163, 165, 167, 169, 171, 174, 175, 180, 182, 183, 185, 186, 187, 188, 189, 193, 200, 201, 204, 205, 206, 210, 211, 212, 213, 216, 218, 219, 224, 225, 226, 227, 228, 229, 231, 232, 233, 234, 236, 240, 243, 244, 246, 247, 248, 251, 254, 257, 258, 264, 266, 268, 269, 270, 275, 280, 283, 285, 286, 287, 288, 291, 292, 296, 297, 298, 299, 301, 302, 303, 304, 308, 310, 312, 313, 314, 317, 318, 320, 322, 323, 324, 330, 331, 334, 340, 341, 350, 355, 356, 357, 358, 359, 360, 362, 363, 364, 365, 367, 369, 374, 375, 376, 377, 382, 384, 386, 387, 388, 389, 391, 392, 393, 395, 396, 397, 399, 400, 401, 402, 404, 405, 406, 407, 411, 413, 414, 415, 417, 418, 421, 423, 425, 427, 431, 433, 434, 435, 436, 437, 438, 439, 442, 443, 444, 446, 447, 448, 449, 451, 452, 453, 457, 460, 462, 465, 466, 467, 470, 472, 473, 475, 477, 486, 487, 492, 493, 495, 496, 498, 501, 502, 503, 504, 506, 508, 509]\n",
            "[0, 2, 5, 6, 7, 8, 9, 12, 18, 19, 20, 23, 25, 26, 27, 28, 31, 37, 40, 43, 46, 48, 53, 54, 55, 57, 60, 62, 63, 65, 67, 70, 73, 74, 75, 80, 87, 89, 93, 95, 96, 97, 101, 103, 106, 107, 110, 112, 113, 114, 115, 116, 118, 119, 120, 123, 125, 128, 135, 136, 137, 138, 139, 142, 145, 146, 148, 152, 156, 159, 160, 162, 164, 165, 166, 167, 170, 172, 173, 175, 180, 184, 185, 188, 189, 193, 195, 204, 205, 207, 211, 213, 214, 216, 219, 220, 221, 223, 224, 225, 227, 229, 231, 232, 233, 234, 236, 237, 240, 241, 242, 243, 247, 248, 249, 253, 254, 256, 257, 259, 263, 264, 266, 268, 270, 272, 276, 280, 285, 286, 288, 289, 291, 296, 300, 302, 303, 304, 305, 306, 307, 308, 312, 313, 315, 317, 318, 320, 321, 328, 329, 331, 332, 337, 338, 339, 340, 341, 345, 346, 354, 356, 357, 359, 360, 362, 364, 365, 366, 367, 369, 376, 377, 378, 385, 386, 387, 388, 389, 390, 391, 393, 396, 397, 398, 399, 400, 401, 402, 411, 414, 416, 417, 422, 425, 427, 429, 432, 434, 435, 437, 439, 440, 442, 443, 444, 447, 451, 455, 457, 462, 465, 467, 470, 472, 473, 476, 479, 482, 483, 486, 487, 490, 491, 492, 493, 495, 496, 502, 503, 504, 505, 508, 510]\n",
            "[1, 4, 5, 9, 10, 11, 12, 14, 17, 18, 19, 22, 26, 27, 28, 30, 31, 32, 38, 39, 40, 43, 46, 47, 48, 49, 52, 54, 55, 56, 57, 60, 62, 65, 70, 71, 73, 74, 80, 81, 86, 91, 93, 94, 95, 97, 100, 101, 102, 106, 108, 109, 113, 114, 119, 120, 123, 124, 129, 130, 135, 136, 137, 139, 141, 148, 152, 154, 155, 156, 157, 158, 159, 160, 164, 165, 168, 169, 170, 175, 178, 179, 184, 186, 188, 189, 200, 204, 205, 207, 211, 213, 214, 218, 219, 221, 222, 223, 224, 227, 228, 230, 231, 233, 236, 240, 243, 244, 247, 248, 249, 257, 258, 262, 263, 268, 270, 273, 277, 280, 281, 285, 286, 287, 288, 291, 295, 296, 298, 300, 302, 303, 305, 306, 307, 308, 309, 312, 313, 317, 318, 320, 324, 325, 332, 333, 334, 337, 338, 339, 344, 346, 354, 357, 358, 359, 360, 361, 362, 364, 366, 367, 369, 374, 376, 380, 381, 382, 384, 386, 387, 388, 390, 391, 392, 394, 395, 396, 398, 400, 401, 402, 403, 404, 405, 406, 409, 411, 413, 414, 416, 421, 426, 429, 432, 435, 438, 441, 445, 446, 447, 451, 453, 455, 456, 457, 461, 462, 463, 465, 466, 469, 471, 472, 473, 474, 476, 478, 483, 486, 487, 488, 490, 492, 493, 497, 498, 499, 500, 502, 503, 504, 505, 506, 507, 510]\n",
            "[0, 2, 4, 5, 6, 8, 9, 10, 12, 14, 15, 16, 18, 19, 22, 25, 26, 27, 28, 30, 31, 35, 36, 37, 39, 40, 45, 46, 48, 53, 57, 62, 66, 68, 69, 70, 71, 73, 76, 80, 81, 82, 83, 86, 87, 88, 90, 91, 93, 94, 95, 97, 98, 100, 101, 106, 107, 108, 110, 113, 117, 119, 121, 123, 125, 126, 130, 133, 135, 137, 138, 141, 142, 143, 146, 150, 151, 152, 155, 156, 157, 158, 159, 160, 161, 164, 166, 167, 169, 170, 173, 175, 178, 179, 183, 184, 185, 187, 188, 189, 193, 194, 195, 196, 200, 204, 205, 206, 207, 208, 210, 211, 212, 214, 218, 219, 221, 223, 226, 227, 228, 229, 230, 231, 236, 238, 239, 240, 244, 245, 246, 249, 255, 256, 258, 259, 261, 263, 265, 266, 268, 270, 271, 275, 277, 278, 280, 283, 285, 286, 288, 289, 296, 300, 301, 303, 305, 307, 308, 310, 312, 315, 316, 317, 318, 320, 321, 324, 325, 326, 329, 331, 332, 333, 334, 338, 339, 340, 341, 349, 350, 353, 354, 356, 357, 360, 362, 366, 367, 371, 372, 374, 375, 377, 378, 379, 382, 383, 386, 388, 389, 390, 396, 397, 400, 402, 407, 410, 413, 414, 416, 417, 419, 421, 424, 426, 427, 429, 431, 433, 435, 438, 439, 442, 443, 444, 445, 446, 447, 449, 451, 453, 454, 457, 460, 461, 462, 463, 465, 472, 475, 476, 478, 482, 483, 487, 489, 490, 495, 496, 500, 501, 504, 507, 508]\n",
            "[1, 3, 4, 5, 6, 7, 9, 11, 12, 17, 19, 22, 23, 25, 27, 28, 30, 35, 39, 40, 42, 44, 47, 51, 53, 55, 60, 61, 62, 67, 68, 69, 71, 72, 73, 77, 81, 82, 83, 85, 86, 87, 92, 95, 96, 99, 102, 106, 109, 110, 111, 112, 114, 115, 116, 119, 122, 125, 126, 128, 141, 146, 152, 156, 160, 162, 165, 166, 168, 170, 177, 179, 180, 183, 186, 190, 191, 193, 194, 200, 202, 204, 205, 206, 207, 214, 216, 218, 219, 220, 223, 225, 227, 228, 229, 231, 233, 235, 236, 237, 238, 240, 243, 244, 247, 248, 249, 250, 251, 253, 256, 257, 263, 264, 266, 267, 268, 269, 273, 275, 280, 281, 282, 283, 287, 288, 291, 292, 294, 295, 304, 315, 317, 319, 320, 322, 323, 324, 334, 335, 337, 339, 340, 345, 346, 349, 353, 354, 357, 358, 359, 360, 361, 363, 364, 365, 367, 368, 370, 371, 374, 376, 379, 381, 382, 384, 385, 386, 391, 392, 394, 397, 398, 400, 401, 402, 404, 405, 408, 410, 414, 416, 417, 419, 420, 423, 427, 429, 430, 433, 434, 438, 441, 442, 444, 445, 446, 449, 450, 451, 453, 455, 457, 466, 467, 469, 472, 473, 475, 476, 477, 479, 482, 485, 486, 489, 490, 491, 493, 497, 499, 500, 501, 502, 503, 504, 505, 506, 507, 509]\n"
          ]
        }
      ]
    },
    {
      "cell_type": "markdown",
      "source": [
        "Calculating the intersections of the blacked images"
      ],
      "metadata": {
        "id": "nBfKxoP9k8Jp"
      }
    },
    {
      "cell_type": "code",
      "source": [
        "columns_one = same_columns_blacked[0]\n",
        "for i in range(len(same_columns_blacked)-1):\n",
        " \n",
        "  columns_two = same_columns_blacked[i+1]\n",
        "\n",
        "\n",
        "  list1_as_set = set(columns_one)\n",
        "  intersection = list1_as_set.intersection(columns_two)\n",
        "\n",
        "\n",
        "  intersection_as_list = list(intersection)\n",
        "  print(\"intersection\")\n",
        "  print(len(intersection_as_list))\n",
        "\n",
        "  columns_one = intersection_as_list\n",
        "blacked_intersection = columns_one"
      ],
      "metadata": {
        "id": "4ZRkGA3jn4vk",
        "colab": {
          "base_uri": "https://localhost:8080/"
        },
        "outputId": "efd100f9-c32f-4763-f1d3-807d424dd6dd"
      },
      "execution_count": null,
      "outputs": [
        {
          "output_type": "stream",
          "name": "stdout",
          "text": [
            "intersection\n",
            "131\n",
            "intersection\n",
            "76\n",
            "intersection\n",
            "55\n",
            "intersection\n",
            "36\n",
            "intersection\n",
            "22\n"
          ]
        }
      ]
    },
    {
      "cell_type": "markdown",
      "source": [
        "Background embedding - how many features are the close to the original"
      ],
      "metadata": {
        "id": "V2qQ3cA4wN5C"
      }
    },
    {
      "cell_type": "code",
      "source": [
        "def how_many_columns_are_same(original, modified, epsilon = 0.01):\n",
        "  columns = []\n",
        "  for i in range(len(original)):\n",
        "    if (original[i]  > 0.000001 and modified[i]> 0.000001) or (original[i]  < -0.000001 and modified[i]  < -0.000001):\n",
        "     if original[i] - epsilon < modified[i] and original[i] + epsilon > modified[i]:\n",
        "        columns.append(i)\n",
        "  return columns\n",
        "\n",
        "same_columns_background =[]     \n",
        "for i in range(6):\n",
        "    same_columns_background.append(how_many_columns_are_same(original_embedding[i], modified_embedding_background[i]))\n",
        "    print(same_columns_background[-1])"
      ],
      "metadata": {
        "id": "-yEzjlD4wNQw",
        "colab": {
          "base_uri": "https://localhost:8080/"
        },
        "outputId": "25622b0e-ba3e-460b-ebbe-d5d7955ef652"
      },
      "execution_count": null,
      "outputs": [
        {
          "output_type": "stream",
          "name": "stdout",
          "text": [
            "[0, 2, 3, 4, 5, 6, 7, 8, 10, 11, 12, 17, 18, 19, 20, 22, 25, 26, 27, 28, 29, 30, 31, 33, 34, 35, 37, 38, 41, 42, 43, 44, 45, 46, 47, 48, 49, 51, 52, 53, 55, 56, 57, 58, 60, 61, 62, 64, 65, 66, 67, 68, 69, 71, 72, 73, 74, 75, 76, 77, 78, 79, 80, 81, 82, 83, 84, 86, 87, 89, 90, 91, 92, 93, 95, 96, 98, 99, 100, 101, 103, 104, 105, 107, 109, 110, 111, 113, 114, 115, 117, 119, 120, 121, 122, 123, 125, 126, 127, 129, 130, 131, 132, 134, 135, 136, 137, 138, 139, 141, 143, 145, 146, 147, 148, 151, 154, 155, 156, 157, 158, 160, 161, 162, 163, 164, 165, 166, 167, 168, 169, 171, 172, 175, 176, 177, 178, 180, 181, 182, 183, 184, 185, 186, 187, 188, 190, 191, 192, 193, 194, 196, 197, 198, 199, 200, 201, 202, 203, 205, 206, 208, 210, 211, 212, 213, 214, 215, 217, 218, 219, 220, 222, 223, 225, 226, 227, 228, 230, 231, 232, 233, 234, 235, 237, 239, 240, 241, 242, 243, 245, 246, 247, 248, 249, 250, 251, 252, 253, 254, 255, 256, 259, 260, 261, 262, 264, 265, 266, 267, 268, 269, 270, 271, 272, 273, 274, 275, 276, 278, 279, 280, 281, 282, 283, 284, 285, 286, 287, 288, 289, 290, 291, 294, 297, 298, 299, 300, 303, 304, 305, 306, 307, 308, 309, 310, 311, 312, 313, 314, 315, 316, 318, 319, 323, 324, 325, 326, 327, 329, 330, 331, 332, 333, 335, 336, 337, 338, 340, 341, 342, 343, 344, 345, 346, 347, 348, 349, 350, 351, 352, 354, 355, 356, 358, 359, 360, 362, 364, 365, 367, 369, 370, 371, 372, 373, 374, 375, 376, 377, 378, 379, 380, 382, 383, 384, 385, 386, 388, 389, 390, 391, 392, 393, 394, 395, 396, 397, 398, 400, 401, 402, 404, 406, 407, 408, 409, 411, 412, 414, 415, 416, 417, 418, 419, 420, 421, 423, 424, 425, 428, 430, 431, 432, 433, 434, 435, 436, 437, 439, 440, 441, 442, 445, 446, 449, 450, 452, 453, 454, 455, 456, 457, 458, 459, 460, 461, 462, 463, 467, 468, 469, 470, 471, 472, 473, 475, 476, 477, 478, 479, 480, 481, 482, 483, 485, 487, 488, 489, 490, 491, 492, 493, 494, 495, 496, 498, 499, 500, 501, 502, 504, 505, 506, 507, 508, 510, 511]\n",
            "[0, 2, 3, 4, 5, 7, 8, 9, 12, 13, 15, 16, 17, 18, 20, 23, 25, 26, 27, 28, 29, 30, 31, 32, 34, 35, 37, 38, 39, 45, 47, 48, 49, 50, 51, 52, 53, 54, 58, 60, 61, 62, 64, 65, 66, 67, 68, 69, 72, 73, 74, 75, 76, 77, 78, 79, 80, 81, 82, 83, 84, 85, 86, 87, 89, 91, 93, 95, 98, 100, 102, 104, 106, 107, 109, 111, 112, 115, 116, 118, 119, 120, 121, 122, 123, 124, 125, 126, 127, 130, 131, 133, 134, 135, 136, 137, 138, 139, 141, 143, 145, 150, 151, 152, 154, 155, 157, 158, 159, 160, 161, 162, 163, 165, 166, 168, 169, 171, 173, 175, 176, 178, 180, 181, 183, 185, 187, 188, 189, 190, 191, 192, 194, 196, 197, 198, 200, 201, 203, 204, 205, 206, 207, 208, 210, 211, 212, 213, 214, 215, 216, 219, 222, 224, 225, 226, 227, 228, 230, 231, 232, 233, 234, 235, 236, 241, 243, 245, 247, 248, 251, 252, 253, 254, 258, 260, 261, 262, 263, 264, 267, 269, 270, 271, 273, 276, 277, 278, 279, 280, 282, 283, 284, 285, 287, 288, 289, 290, 291, 292, 293, 294, 296, 297, 299, 300, 302, 303, 304, 305, 306, 307, 308, 309, 310, 311, 312, 313, 314, 315, 316, 318, 319, 320, 322, 324, 325, 327, 329, 330, 331, 332, 336, 337, 338, 339, 340, 341, 343, 344, 345, 346, 347, 349, 350, 351, 352, 357, 358, 359, 360, 361, 364, 365, 367, 368, 369, 370, 371, 372, 373, 374, 375, 376, 377, 378, 379, 380, 382, 383, 385, 386, 387, 388, 389, 390, 391, 392, 393, 394, 395, 396, 397, 398, 400, 401, 402, 404, 406, 411, 412, 413, 414, 415, 416, 417, 418, 419, 421, 422, 423, 424, 425, 427, 428, 431, 432, 434, 436, 437, 438, 439, 440, 441, 442, 443, 444, 445, 446, 447, 448, 449, 450, 453, 458, 460, 462, 465, 466, 467, 468, 469, 470, 471, 472, 475, 478, 479, 480, 481, 482, 483, 484, 485, 487, 488, 489, 490, 491, 494, 496, 497, 499, 500, 501, 504, 508, 509, 510, 511]\n",
            "[0, 2, 3, 5, 6, 8, 9, 10, 11, 12, 13, 16, 17, 18, 19, 20, 23, 25, 26, 27, 28, 29, 30, 31, 33, 36, 37, 38, 39, 40, 42, 43, 45, 47, 48, 49, 50, 52, 53, 54, 56, 57, 60, 61, 63, 64, 65, 67, 69, 71, 73, 74, 75, 76, 78, 79, 80, 81, 82, 83, 84, 85, 87, 89, 90, 91, 93, 94, 95, 97, 101, 102, 103, 106, 107, 109, 110, 111, 113, 114, 116, 117, 119, 120, 122, 123, 128, 129, 130, 132, 133, 135, 136, 137, 138, 139, 141, 142, 143, 144, 145, 146, 148, 150, 152, 154, 155, 158, 159, 160, 161, 162, 164, 165, 166, 167, 168, 169, 170, 171, 173, 174, 175, 177, 178, 179, 180, 181, 182, 183, 184, 185, 186, 188, 189, 190, 192, 193, 197, 198, 204, 205, 207, 208, 210, 211, 212, 214, 215, 218, 219, 220, 221, 222, 223, 224, 225, 227, 228, 229, 230, 231, 232, 233, 234, 236, 237, 238, 239, 240, 241, 242, 243, 244, 245, 246, 247, 248, 251, 254, 256, 257, 258, 259, 262, 263, 264, 265, 266, 267, 268, 270, 273, 274, 275, 276, 277, 278, 280, 283, 285, 286, 288, 289, 291, 292, 293, 294, 296, 297, 303, 304, 306, 307, 308, 309, 310, 312, 314, 315, 316, 318, 319, 324, 325, 326, 327, 329, 330, 331, 332, 333, 336, 337, 338, 339, 340, 341, 343, 344, 345, 346, 348, 349, 352, 354, 356, 360, 361, 362, 364, 365, 367, 369, 370, 372, 373, 375, 376, 377, 378, 380, 381, 382, 383, 385, 386, 387, 388, 389, 390, 391, 392, 393, 394, 395, 396, 397, 398, 399, 400, 401, 402, 404, 406, 407, 411, 412, 416, 417, 418, 419, 420, 422, 423, 424, 425, 427, 429, 430, 431, 432, 433, 434, 436, 437, 439, 442, 443, 444, 445, 446, 447, 449, 451, 453, 454, 455, 456, 460, 461, 462, 463, 469, 470, 471, 472, 473, 474, 476, 480, 481, 482, 483, 485, 486, 487, 488, 489, 490, 491, 492, 493, 494, 495, 496, 499, 501, 502, 503, 504, 505, 506, 507, 508, 510, 511]\n",
            "[0, 1, 2, 3, 4, 5, 6, 7, 9, 10, 11, 12, 13, 15, 17, 18, 19, 20, 22, 23, 24, 25, 26, 27, 28, 29, 30, 31, 32, 33, 34, 35, 36, 37, 39, 42, 43, 44, 45, 46, 47, 48, 49, 51, 52, 53, 54, 56, 57, 58, 59, 60, 61, 62, 63, 64, 65, 66, 67, 71, 72, 73, 74, 77, 78, 79, 80, 81, 82, 83, 84, 85, 86, 87, 88, 90, 91, 92, 93, 94, 95, 97, 98, 99, 100, 104, 105, 106, 107, 108, 109, 110, 111, 112, 113, 114, 117, 118, 119, 120, 121, 122, 124, 125, 126, 128, 130, 131, 133, 134, 136, 137, 139, 140, 141, 142, 143, 145, 146, 147, 148, 151, 153, 154, 155, 156, 157, 158, 159, 161, 162, 163, 164, 165, 166, 168, 169, 170, 171, 173, 175, 177, 178, 179, 180, 181, 183, 184, 185, 186, 187, 188, 190, 191, 192, 194, 195, 196, 197, 198, 200, 203, 204, 205, 206, 207, 208, 209, 210, 211, 212, 213, 214, 215, 217, 218, 219, 220, 222, 223, 224, 225, 226, 227, 228, 230, 231, 232, 233, 234, 235, 236, 239, 240, 241, 242, 245, 248, 251, 252, 253, 255, 256, 258, 259, 260, 261, 262, 263, 264, 265, 266, 267, 269, 270, 271, 272, 273, 276, 277, 279, 280, 281, 284, 285, 286, 287, 288, 289, 290, 291, 293, 294, 295, 296, 297, 298, 299, 301, 304, 308, 309, 310, 311, 312, 313, 314, 315, 317, 318, 319, 320, 321, 322, 324, 325, 326, 327, 328, 331, 332, 333, 334, 335, 336, 337, 338, 339, 340, 341, 342, 343, 344, 345, 346, 348, 349, 350, 351, 352, 354, 357, 358, 359, 360, 361, 362, 363, 364, 367, 368, 369, 370, 372, 373, 374, 375, 376, 377, 378, 379, 381, 383, 384, 387, 388, 389, 390, 391, 392, 393, 394, 395, 397, 398, 400, 401, 402, 404, 405, 406, 407, 408, 411, 412, 413, 414, 415, 416, 417, 418, 419, 420, 421, 422, 423, 424, 428, 429, 431, 432, 433, 434, 435, 436, 438, 439, 441, 442, 443, 444, 445, 446, 447, 449, 450, 451, 452, 453, 455, 456, 458, 459, 460, 461, 462, 463, 464, 465, 466, 468, 469, 470, 471, 472, 473, 475, 476, 477, 478, 479, 480, 481, 482, 484, 485, 486, 487, 488, 489, 490, 491, 492, 493, 499, 500, 501, 503, 505, 507, 508, 509, 510, 511]\n",
            "[0, 1, 2, 3, 4, 5, 6, 8, 10, 12, 13, 17, 18, 19, 20, 21, 22, 23, 24, 25, 26, 27, 28, 30, 31, 33, 34, 35, 36, 39, 41, 42, 45, 46, 47, 48, 50, 51, 52, 53, 54, 55, 56, 57, 58, 59, 61, 62, 65, 68, 69, 73, 74, 76, 77, 79, 80, 81, 82, 83, 84, 85, 86, 87, 88, 94, 95, 96, 98, 99, 100, 101, 102, 103, 106, 107, 109, 110, 111, 112, 113, 116, 118, 119, 120, 121, 123, 125, 130, 131, 133, 135, 137, 138, 139, 141, 142, 143, 146, 149, 150, 151, 154, 155, 156, 157, 159, 160, 162, 164, 166, 167, 168, 169, 170, 171, 173, 174, 175, 178, 180, 181, 182, 183, 184, 185, 187, 188, 189, 190, 191, 194, 196, 200, 201, 205, 206, 207, 208, 210, 211, 212, 214, 215, 218, 219, 221, 223, 226, 227, 228, 229, 230, 231, 232, 233, 234, 236, 237, 238, 239, 241, 242, 243, 245, 246, 247, 248, 249, 251, 253, 254, 255, 257, 258, 259, 261, 262, 263, 264, 265, 266, 267, 268, 269, 270, 272, 273, 274, 275, 276, 277, 278, 279, 280, 281, 284, 285, 286, 288, 289, 290, 291, 292, 293, 294, 295, 296, 297, 300, 303, 304, 305, 306, 307, 308, 309, 310, 312, 313, 314, 315, 316, 317, 318, 319, 320, 321, 323, 324, 325, 326, 327, 329, 330, 331, 332, 333, 334, 335, 336, 337, 338, 339, 340, 341, 343, 344, 345, 346, 348, 349, 350, 351, 352, 353, 354, 358, 360, 361, 362, 363, 364, 365, 366, 367, 369, 370, 371, 372, 374, 376, 377, 378, 379, 380, 381, 384, 385, 386, 387, 388, 390, 391, 393, 394, 395, 396, 397, 398, 400, 401, 402, 406, 407, 409, 411, 412, 413, 414, 415, 416, 417, 418, 419, 421, 422, 423, 425, 426, 427, 428, 429, 431, 432, 433, 434, 435, 438, 439, 440, 441, 442, 443, 444, 445, 446, 447, 449, 450, 451, 454, 456, 457, 458, 462, 463, 466, 467, 468, 469, 470, 472, 473, 474, 477, 478, 479, 481, 482, 483, 486, 487, 488, 489, 492, 494, 495, 496, 497, 498, 499, 500, 501, 505, 506, 507, 509, 510, 511]\n",
            "[0, 1, 3, 4, 5, 6, 7, 8, 9, 10, 12, 14, 15, 16, 17, 19, 20, 22, 23, 24, 25, 26, 28, 29, 30, 31, 32, 33, 34, 35, 36, 37, 39, 41, 42, 44, 45, 48, 49, 51, 52, 53, 54, 56, 57, 61, 62, 63, 64, 65, 67, 68, 71, 73, 74, 75, 76, 77, 78, 79, 80, 82, 83, 84, 85, 86, 87, 88, 89, 90, 94, 95, 96, 97, 98, 99, 100, 102, 103, 105, 106, 107, 108, 110, 111, 112, 113, 114, 115, 116, 117, 118, 119, 120, 121, 122, 123, 124, 125, 126, 127, 128, 130, 132, 135, 136, 137, 138, 139, 140, 141, 142, 143, 144, 145, 147, 148, 150, 152, 153, 155, 156, 157, 158, 160, 161, 162, 163, 164, 165, 166, 167, 168, 169, 175, 180, 181, 182, 183, 184, 185, 186, 187, 189, 190, 191, 192, 193, 194, 196, 198, 200, 203, 204, 205, 207, 208, 210, 211, 212, 213, 215, 217, 218, 219, 220, 223, 224, 225, 227, 228, 229, 230, 231, 232, 233, 234, 236, 237, 238, 239, 240, 241, 242, 243, 244, 245, 246, 247, 248, 249, 250, 251, 252, 253, 254, 255, 256, 257, 258, 260, 261, 263, 264, 265, 267, 268, 269, 270, 271, 272, 273, 274, 276, 278, 279, 280, 281, 282, 284, 285, 286, 287, 288, 289, 290, 291, 292, 293, 294, 295, 296, 297, 299, 300, 303, 304, 305, 306, 307, 309, 310, 311, 312, 314, 315, 317, 319, 320, 321, 322, 323, 324, 325, 327, 328, 329, 330, 332, 333, 334, 335, 336, 337, 338, 339, 341, 342, 343, 344, 345, 346, 347, 350, 351, 352, 353, 354, 355, 356, 357, 358, 359, 360, 361, 362, 363, 364, 365, 366, 367, 368, 370, 371, 372, 373, 374, 375, 376, 377, 379, 383, 384, 385, 386, 388, 389, 391, 392, 393, 394, 395, 396, 398, 399, 400, 401, 402, 405, 407, 408, 409, 410, 411, 412, 413, 414, 415, 416, 417, 418, 419, 420, 422, 423, 425, 426, 427, 429, 430, 433, 434, 435, 436, 437, 438, 439, 440, 441, 442, 443, 444, 446, 447, 448, 449, 451, 452, 453, 454, 457, 458, 460, 461, 463, 464, 465, 466, 467, 468, 469, 470, 471, 472, 473, 475, 476, 477, 478, 479, 480, 481, 482, 483, 485, 487, 489, 490, 491, 492, 493, 494, 495, 498, 499, 500, 501, 502, 503, 504, 505, 507, 508, 509, 510]\n"
          ]
        }
      ]
    },
    {
      "cell_type": "markdown",
      "source": [
        "Calculating the intersections of the blacked images"
      ],
      "metadata": {
        "id": "LhTjVbp-lB8i"
      }
    },
    {
      "cell_type": "code",
      "source": [
        "columns_one = same_columns_background[0]\n",
        "for i in range(len(same_columns_background)-1):\n",
        " \n",
        "  columns_two = same_columns_background[i+1]\n",
        "\n",
        "\n",
        "  list1_as_set = set(columns_one)\n",
        "  intersection = list1_as_set.difference(columns_two)\n",
        "\n",
        "\n",
        "  intersection_as_list = list(intersection)\n",
        "  print(\"intersection\")\n",
        "  print(len(intersection_as_list))\n",
        "\n",
        "  columns_one = intersection_as_list\n",
        "\n",
        "background_intersection = columns_one"
      ],
      "metadata": {
        "colab": {
          "base_uri": "https://localhost:8080/"
        },
        "id": "eq4Cvso9adeE",
        "outputId": "705626cf-7625-43be-92ec-81b0c008acfa"
      },
      "execution_count": null,
      "outputs": [
        {
          "output_type": "stream",
          "name": "stdout",
          "text": [
            "intersection\n",
            "102\n",
            "intersection\n",
            "34\n",
            "intersection\n",
            "13\n",
            "intersection\n",
            "5\n",
            "intersection\n",
            "3\n"
          ]
        }
      ]
    },
    {
      "cell_type": "code",
      "source": [
        "pair_intersection = list(set(same_columns_background[0]).difference(set(same_columns_blacked[0]))) #used it later during testing"
      ],
      "metadata": {
        "id": "ickO_c-mpCQ-"
      },
      "execution_count": null,
      "outputs": []
    },
    {
      "cell_type": "code",
      "source": [
        "len(pair_intersection)"
      ],
      "metadata": {
        "colab": {
          "base_uri": "https://localhost:8080/"
        },
        "id": "nMQfhZx5yXN6",
        "outputId": "d19ab036-34af-4143-9664-bcf21e9e619c"
      },
      "execution_count": null,
      "outputs": [
        {
          "output_type": "execute_result",
          "data": {
            "text/plain": [
              "222"
            ]
          },
          "metadata": {},
          "execution_count": 172
        }
      ]
    },
    {
      "cell_type": "markdown",
      "metadata": {
        "id": "ljKFhFbohzYU"
      },
      "source": [
        "# Testing the new model"
      ]
    },
    {
      "cell_type": "markdown",
      "source": [
        "The model with only the dense layers"
      ],
      "metadata": {
        "id": "qphIXKQYtgmb"
      }
    },
    {
      "cell_type": "code",
      "source": [
        "dense_model = keras.Sequential()\n",
        "\n",
        "layers=test_model.layers[21:25]\n",
        "\n",
        "\n",
        "input = test_model.input\n",
        "x=trained_encoder(input)\n",
        "current_input = trained_encoder(input)\n",
        "\n",
        "x = test_model.layers[20](current_input)\n",
        "for layer in layers:\n",
        "    x = layer(x)\n",
        "\n",
        "age_output=test_model.layers[-3](x)\n",
        "race_output=test_model.layers[-2](x)\n",
        "gender_output=test_model.layers[-1](x)\n",
        "\n",
        "dense_model = Model(inputs=current_input, outputs=[age_output, race_output, gender_output])\n",
        "\n",
        "dense_model.summary()"
      ],
      "metadata": {
        "colab": {
          "base_uri": "https://localhost:8080/"
        },
        "id": "vMtSxWvSdcu0",
        "outputId": "edfe0a04-34f9-4389-8d78-664b36272783"
      },
      "execution_count": null,
      "outputs": [
        {
          "output_type": "stream",
          "name": "stdout",
          "text": [
            "Model: \"model_3\"\n",
            "__________________________________________________________________________________________________\n",
            " Layer (type)                   Output Shape         Param #     Connected to                     \n",
            "==================================================================================================\n",
            " input_2 (InputLayer)           [(None, 512)]        0           []                               \n",
            "                                                                                                  \n",
            " dense_5 (Dense)                (None, 640)          328320      ['input_2[0][0]']                \n",
            "                                                                                                  \n",
            " dense_6 (Dense)                (None, 896)          574336      ['dense_5[9][0]']                \n",
            "                                                                                                  \n",
            " dense_7 (Dense)                (None, 2176)         1951872     ['dense_6[9][0]']                \n",
            "                                                                                                  \n",
            " dense_8 (Dense)                (None, 640)          1393280     ['dense_7[9][0]']                \n",
            "                                                                                                  \n",
            " dense_9 (Dense)                (None, 1664)         1066624     ['dense_8[9][0]']                \n",
            "                                                                                                  \n",
            " age (Dense)                    (None, 9)            14985       ['dense_9[9][0]']                \n",
            "                                                                                                  \n",
            " race (Dense)                   (None, 7)            11655       ['dense_9[9][0]']                \n",
            "                                                                                                  \n",
            " gender (Dense)                 (None, 1)            1665        ['dense_9[9][0]']                \n",
            "                                                                                                  \n",
            "==================================================================================================\n",
            "Total params: 5,342,737\n",
            "Trainable params: 5,342,737\n",
            "Non-trainable params: 0\n",
            "__________________________________________________________________________________________________\n"
          ]
        }
      ]
    },
    {
      "cell_type": "code",
      "source": [
        "def custom_process(encoder_predictions, non_background_features): #If the feature's number is beleived to be a background encoding feature, then it gets a 0 weight\n",
        "  attention_scalar = 1/len(non_background_features)\n",
        "  new_encoder_predictions = encoder_predictions.copy()\n",
        "  counter =0\n",
        "  for i in range(len(encoder_predictions)):\n",
        "    if i in non_background_features:\n",
        "      new_encoder_predictions[i] = encoder_predictions[i]*attention_scalar\n",
        "      counter +=1\n",
        "    else:\n",
        "      new_encoder_predictions[i] = encoder_predictions[i]*0\n",
        "\n",
        "  \n",
        "  return new_encoder_predictions"
      ],
      "metadata": {
        "id": "TThfNb6riY1b"
      },
      "execution_count": null,
      "outputs": []
    },
    {
      "cell_type": "code",
      "metadata": {
        "id": "GFn4-vXxRviE"
      },
      "source": [
        "from sklearn.metrics import classification_report, confusion_matrix\n",
        "from keras.models import load_model\n",
        "#First taking the outputs of the conv layers\n",
        "encoder_predictions = trained_encoder.predict(test_generator)\n",
        "processed_encoder_predictions = encoder_predictions.copy()\n",
        "\n",
        "\n",
        "\n"
      ],
      "execution_count": null,
      "outputs": []
    },
    {
      "cell_type": "code",
      "source": [
        "for i in range(len(processed_encoder_predictions)):\n",
        "  processed_encoder_predictions[i] = custom_process(processed_encoder_predictions[i], pair_intersection)\n",
        "Age_pred, Race_pred, Gender_pred = dense_model.predict(processed_encoder_predictions)"
      ],
      "metadata": {
        "id": "Vsvxa0QBjr7r"
      },
      "execution_count": null,
      "outputs": []
    },
    {
      "cell_type": "code",
      "source": [
        "len(blacked_intersection)"
      ],
      "metadata": {
        "colab": {
          "base_uri": "https://localhost:8080/"
        },
        "id": "KOVpAX7dnyx9",
        "outputId": "4a559cc2-65a5-4af8-f0e3-0767c8c75a4a"
      },
      "execution_count": null,
      "outputs": [
        {
          "output_type": "execute_result",
          "data": {
            "text/plain": [
              "22"
            ]
          },
          "metadata": {},
          "execution_count": 169
        }
      ]
    },
    {
      "cell_type": "code",
      "source": [
        "conv_model=Model(test_model.input, test_model.layers[-13].output)"
      ],
      "metadata": {
        "id": "YCnsCd1YQoVD"
      },
      "execution_count": null,
      "outputs": []
    },
    {
      "cell_type": "code",
      "source": [
        "test_model.summary()"
      ],
      "metadata": {
        "id": "T3KQXuUGRH07"
      },
      "execution_count": null,
      "outputs": []
    },
    {
      "cell_type": "code",
      "source": [
        "#print(conv_model(x_train[0:1]/255))"
      ],
      "metadata": {
        "id": "cUuboGJaQ4_a"
      },
      "execution_count": null,
      "outputs": []
    },
    {
      "cell_type": "code",
      "metadata": {
        "id": "7XT0YbsLjIFy"
      },
      "source": [
        "# convert output vectors to single integers\n",
        "age_pred = np.argmax(Age_pred, axis=1)\n",
        "race_pred = np.argmax(Race_pred, axis=1)\n",
        "gender_pred=Gender_pred>=0.5"
      ],
      "execution_count": null,
      "outputs": []
    },
    {
      "cell_type": "markdown",
      "metadata": {
        "id": "LWeN2OjPwtCz"
      },
      "source": [
        "Confusion matrices"
      ]
    },
    {
      "cell_type": "code",
      "metadata": {
        "id": "_PgYOeSt2tjK"
      },
      "source": [
        "age_labels=['0-2', '10-19', '20-29', '3-9', '30-39', '40-49', '50-59', '60-69', 'more than 70']\n",
        "race_labels=['Black', 'East Asian', 'Indian', 'Latino Hispanic', 'Middle Eastern', 'Southeast Asian', 'White']\n",
        "gender_labels=['Female', 'Male']"
      ],
      "execution_count": null,
      "outputs": []
    },
    {
      "cell_type": "code",
      "metadata": {
        "id": "p-qIR6-iVYUU",
        "colab": {
          "base_uri": "https://localhost:8080/",
          "height": 1000
        },
        "outputId": "e21fc19c-d1df-4744-873e-684c51acd71c"
      },
      "source": [
        "import seaborn as sns\n",
        "import matplotlib.pyplot as plt\n",
        "\n",
        "conf = confusion_matrix(int_test_labels_df['age'].values, age_pred)\n",
        "plt.figure(figsize=(13,10))\n",
        "ax = sns.heatmap(conf, annot=True, fmt='d', cmap='Blues')\n",
        "ax.set(xlabel='Age Predicted Label',\n",
        "       ylabel='Age True label');\n",
        "ax.set_title('Age Confusion Matrix') \n",
        "ax.xaxis.set_ticklabels(age_labels)\n",
        "ax.yaxis.set_ticklabels(age_labels)\n",
        "plt.show()\n",
        "\n",
        "conf = confusion_matrix(int_test_labels_df['race'].values, race_pred)\n",
        "plt.figure(figsize=(13,10))\n",
        "ax = sns.heatmap(conf, annot=True, fmt='d', cmap='Blues')\n",
        "ax.set(xlabel='Race Predicted Label',\n",
        "       ylabel='Race True label');\n",
        "ax.set_title('Race Confusion Matrix') \n",
        "ax.xaxis.set_ticklabels(race_labels)\n",
        "ax.yaxis.set_ticklabels(race_labels)\n",
        "plt.show()\n",
        "\n",
        "conf = confusion_matrix(int_test_labels_df['gender'].values, gender_pred)\n",
        "plt.figure(figsize=(13,10))\n",
        "ax = sns.heatmap(conf, annot=True, fmt='d', cmap='Blues')\n",
        "ax.set(xlabel='Gender Predicted Label',\n",
        "       ylabel='Gender True label');\n",
        "ax.set_title('Race Confusion Matrix') \n",
        "ax.xaxis.set_ticklabels(gender_labels)\n",
        "ax.yaxis.set_ticklabels(gender_labels)\n",
        "plt.show()"
      ],
      "execution_count": null,
      "outputs": [
        {
          "output_type": "display_data",
          "data": {
            "image/png": "[encoded data removed]",
            "text/plain": [
              "<Figure size 936x720 with 2 Axes>"
            ]
          },
          "metadata": {
            "needs_background": "light"
          }
        },
        {
          "output_type": "display_data",
          "data": {
            "image/png": "[encoded data removed]",
            "text/plain": [
              "<Figure size 936x720 with 2 Axes>"
            ]
          },
          "metadata": {
            "needs_background": "light"
          }
        },
        {
          "output_type": "display_data",
          "data": {
            "image/png": "[encoded data removed]",
            "text/plain": [
              "<Figure size 936x720 with 2 Axes>"
            ]
          },
          "metadata": {
            "needs_background": "light"
          }
        }
      ]
    },
    {
      "cell_type": "code",
      "metadata": {
        "id": "0sOfBsc-o7Yy",
        "colab": {
          "base_uri": "https://localhost:8080/"
        },
        "outputId": "892f7808-953a-4ede-eabb-90dd5ca12e46"
      },
      "source": [
        "from sklearn.metrics import classification_report\n",
        "\n",
        "print('Age Classification Report\\n')\n",
        "print(classification_report(int_test_labels_df['age'], age_pred, target_names = age_labels))\n",
        "\n",
        "print('Race Classification Report\\n')\n",
        "print(classification_report(int_test_labels_df['race'], race_pred, target_names = race_labels))\n",
        "\n",
        "print('Gender Classification Report\\n')\n",
        "print(classification_report(int_test_labels_df['gender'], gender_pred, target_names = gender_labels))"
      ],
      "execution_count": null,
      "outputs": [
        {
          "output_type": "stream",
          "name": "stdout",
          "text": [
            "Age Classification Report\n",
            "\n",
            "              precision    recall  f1-score   support\n",
            "\n",
            "         0-2       0.56      0.72      0.63       371\n",
            "       10-19       0.40      0.36      0.38      1836\n",
            "       20-29       0.53      0.75      0.62      5220\n",
            "         3-9       0.75      0.57      0.65      2084\n",
            "       30-39       0.55      0.06      0.12      3827\n",
            "       40-49       0.28      0.30      0.29      2077\n",
            "       50-59       0.26      0.57      0.36      1232\n",
            "       60-69       0.34      0.42      0.38       553\n",
            "more than 70       0.30      0.42      0.35       149\n",
            "\n",
            "    accuracy                           0.45     17349\n",
            "   macro avg       0.44      0.46      0.42     17349\n",
            "weighted avg       0.49      0.45      0.42     17349\n",
            "\n",
            "Race Classification Report\n",
            "\n",
            "                 precision    recall  f1-score   support\n",
            "\n",
            "          Black       0.79      0.65      0.71      2373\n",
            "     East Asian       0.72      0.49      0.58      2499\n",
            "         Indian       0.51      0.65      0.57      2456\n",
            "Latino Hispanic       0.39      0.33      0.36      2709\n",
            " Middle Eastern       0.45      0.30      0.36      1816\n",
            "Southeast Asian       0.43      0.67      0.52      2186\n",
            "          White       0.58      0.65      0.62      3310\n",
            "\n",
            "       accuracy                           0.54     17349\n",
            "      macro avg       0.55      0.53      0.53     17349\n",
            "   weighted avg       0.56      0.54      0.54     17349\n",
            "\n",
            "Gender Classification Report\n",
            "\n",
            "              precision    recall  f1-score   support\n",
            "\n",
            "      Female       0.84      0.87      0.85      8163\n",
            "        Male       0.88      0.85      0.87      9186\n",
            "\n",
            "    accuracy                           0.86     17349\n",
            "   macro avg       0.86      0.86      0.86     17349\n",
            "weighted avg       0.86      0.86      0.86     17349\n",
            "\n"
          ]
        }
      ]
    },
    {
      "cell_type": "markdown",
      "source": [
        "#Conclusion:\n",
        "the reason for this output (predicting always the same labels) lies in the testing images. Since all of the images we modified and compared had very similar labels, the \"background features\" were bound to be biased. (The similarities in their feature map representations were not detected, as they were too similar.) "
      ],
      "metadata": {
        "id": "lX99Ee0It-qI"
      }
    },
    {
      "cell_type": "markdown",
      "source": [
        "###Only run this section if you want to check the results from the full model"
      ],
      "metadata": {
        "id": "s5R-hanElMux"
      }
    },
    {
      "cell_type": "markdown",
      "source": [
        "FULL MODEL"
      ],
      "metadata": {
        "id": "AKzTZSR7jhCF"
      }
    },
    {
      "cell_type": "code",
      "metadata": {
        "id": "EUZ1vaWNjjR_"
      },
      "source": [
        "from sklearn.metrics import classification_report, confusion_matrix\n",
        "from keras.models import load_model\n",
        "# load best model\n",
        "test_model = load_model(\"/content/drive/MyDrive/figures/final_model.hdf5\", custom_objects={'loss': weighted_categorical_crossentropy})\n",
        "Age_pred, Race_pred, Gender_pred = test_model.predict(test_generator)"
      ],
      "execution_count": null,
      "outputs": []
    },
    {
      "cell_type": "code",
      "source": [
        "conv_model=Model(test_model.input, test_model.layers[-13].output)"
      ],
      "metadata": {
        "id": "GUM8-auDjjSB"
      },
      "execution_count": null,
      "outputs": []
    },
    {
      "cell_type": "code",
      "source": [
        "test_model.summary()"
      ],
      "metadata": {
        "id": "0mECBXPkjjSB"
      },
      "execution_count": null,
      "outputs": []
    },
    {
      "cell_type": "code",
      "source": [
        "#print(conv_model(x_train[0:1]/255))"
      ],
      "metadata": {
        "id": "eKvURthYjjSC"
      },
      "execution_count": null,
      "outputs": []
    },
    {
      "cell_type": "code",
      "metadata": {
        "id": "ks-TogENjjSC"
      },
      "source": [
        "# convert output vectors to single integers\n",
        "age_pred = np.argmax(Age_pred, axis=1)\n",
        "race_pred = np.argmax(Race_pred, axis=1)\n",
        "gender_pred=Gender_pred>=0.5"
      ],
      "execution_count": null,
      "outputs": []
    },
    {
      "cell_type": "markdown",
      "metadata": {
        "id": "QQH3_ZvVjjSD"
      },
      "source": [
        "Confusion matrices"
      ]
    },
    {
      "cell_type": "code",
      "metadata": {
        "id": "EqxHE2FGjjSD"
      },
      "source": [
        "age_labels=['0-2', '10-19', '20-29', '3-9', '30-39', '40-49', '50-59', '60-69', 'more than 70']\n",
        "race_labels=['Black', 'East Asian', 'Indian', 'Latino Hispanic', 'Middle Eastern', 'Southeast Asian', 'White']\n",
        "gender_labels=['Female', 'Male']"
      ],
      "execution_count": null,
      "outputs": []
    },
    {
      "cell_type": "code",
      "metadata": {
        "colab": {
          "base_uri": "https://localhost:8080/",
          "height": 1000
        },
        "id": "c1M6vV4tjjSD",
        "outputId": "376dad86-f187-4a32-e652-fbd1b30b9cd8"
      },
      "source": [
        "import seaborn as sns\n",
        "import matplotlib.pyplot as plt\n",
        "\n",
        "conf = confusion_matrix(int_test_labels_df['age'].values, age_pred)\n",
        "plt.figure(figsize=(13,10))\n",
        "ax = sns.heatmap(conf, annot=True, fmt='d', cmap='Blues')\n",
        "ax.set(xlabel='Age Predicted Label',\n",
        "       ylabel='Age True label');\n",
        "ax.set_title('Age Confusion Matrix') \n",
        "ax.xaxis.set_ticklabels(age_labels)\n",
        "ax.yaxis.set_ticklabels(age_labels)\n",
        "plt.show()\n",
        "\n",
        "conf = confusion_matrix(int_test_labels_df['race'].values, race_pred)\n",
        "plt.figure(figsize=(13,10))\n",
        "ax = sns.heatmap(conf, annot=True, fmt='d', cmap='Blues')\n",
        "ax.set(xlabel='Race Predicted Label',\n",
        "       ylabel='Race True label');\n",
        "ax.set_title('Race Confusion Matrix') \n",
        "ax.xaxis.set_ticklabels(race_labels)\n",
        "ax.yaxis.set_ticklabels(race_labels)\n",
        "plt.show()\n",
        "\n",
        "conf = confusion_matrix(int_test_labels_df['gender'].values, gender_pred)\n",
        "plt.figure(figsize=(13,10))\n",
        "ax = sns.heatmap(conf, annot=True, fmt='d', cmap='Blues')\n",
        "ax.set(xlabel='Gender Predicted Label',\n",
        "       ylabel='Gender True label');\n",
        "ax.set_title('Race Confusion Matrix') \n",
        "ax.xaxis.set_ticklabels(gender_labels)\n",
        "ax.yaxis.set_ticklabels(gender_labels)\n",
        "plt.show()"
      ],
      "execution_count": null,
      "outputs": [
        {
          "output_type": "display_data",
          "data": {
            "image/png": "[encoded data removed]",
            "text/plain": [
              "<Figure size 936x720 with 2 Axes>"
            ]
          },
          "metadata": {
            "needs_background": "light"
          }
        },
        {
          "output_type": "display_data",
          "data": {
            "image/png": "[encoded data removed]",
            "text/plain": [
              "<Figure size 936x720 with 2 Axes>"
            ]
          },
          "metadata": {
            "needs_background": "light"
          }
        },
        {
          "output_type": "display_data",
          "data": {
            "image/png": "[encoded data removed]",
            "text/plain": [
              "<Figure size 936x720 with 2 Axes>"
            ]
          },
          "metadata": {
            "needs_background": "light"
          }
        }
      ]
    },
    {
      "cell_type": "code",
      "metadata": {
        "colab": {
          "base_uri": "https://localhost:8080/"
        },
        "id": "TOp3fbCSjjSE",
        "outputId": "ab72aea7-acac-4a1a-ebfd-f18f6d8b865a"
      },
      "source": [
        "from sklearn.metrics import classification_report\n",
        "\n",
        "print('Age Classification Report\\n')\n",
        "print(classification_report(int_test_labels_df['age'], age_pred, target_names = age_labels))\n",
        "\n",
        "print('Race Classification Report\\n')\n",
        "print(classification_report(int_test_labels_df['race'], race_pred, target_names = race_labels))\n",
        "\n",
        "print('Gender Classification Report\\n')\n",
        "print(classification_report(int_test_labels_df['gender'], gender_pred, target_names = gender_labels))"
      ],
      "execution_count": null,
      "outputs": [
        {
          "output_type": "stream",
          "name": "stdout",
          "text": [
            "Age Classification Report\n",
            "\n",
            "              precision    recall  f1-score   support\n",
            "\n",
            "         0-2       0.55      0.72      0.62       371\n",
            "       10-19       0.40      0.36      0.38      1836\n",
            "       20-29       0.53      0.74      0.62      5220\n",
            "         3-9       0.75      0.58      0.65      2084\n",
            "       30-39       0.55      0.06      0.11      3827\n",
            "       40-49       0.28      0.30      0.29      2077\n",
            "       50-59       0.26      0.57      0.36      1232\n",
            "       60-69       0.34      0.43      0.38       553\n",
            "more than 70       0.30      0.43      0.35       149\n",
            "\n",
            "    accuracy                           0.45     17349\n",
            "   macro avg       0.44      0.47      0.42     17349\n",
            "weighted avg       0.49      0.45      0.42     17349\n",
            "\n",
            "Race Classification Report\n",
            "\n",
            "                 precision    recall  f1-score   support\n",
            "\n",
            "          Black       0.80      0.64      0.71      2373\n",
            "     East Asian       0.73      0.48      0.58      2499\n",
            "         Indian       0.51      0.65      0.57      2456\n",
            "Latino Hispanic       0.39      0.33      0.36      2709\n",
            " Middle Eastern       0.45      0.29      0.35      1816\n",
            "Southeast Asian       0.43      0.67      0.52      2186\n",
            "          White       0.58      0.66      0.62      3310\n",
            "\n",
            "       accuracy                           0.54     17349\n",
            "      macro avg       0.56      0.53      0.53     17349\n",
            "   weighted avg       0.56      0.54      0.54     17349\n",
            "\n",
            "Gender Classification Report\n",
            "\n",
            "              precision    recall  f1-score   support\n",
            "\n",
            "      Female       0.83      0.88      0.85      8163\n",
            "        Male       0.89      0.84      0.86      9186\n",
            "\n",
            "    accuracy                           0.86     17349\n",
            "   macro avg       0.86      0.86      0.86     17349\n",
            "weighted avg       0.86      0.86      0.86     17349\n",
            "\n"
          ]
        }
      ]
    },
    {
      "cell_type": "code",
      "source": [
        "import glob\n",
        "import tqdm\n",
        "import matplotlib\n",
        "x_train=np.empty((1000, 224, 224, 3), dtype=np.uint8)\n",
        "imgs=glob.glob(\"train/*.jpg\")\n",
        "img_count=0\n",
        "for img in tqdm.tqdm(imgs):\n",
        "   x_train[img_count]=matplotlib.image.imread(img)\n",
        "\n",
        "   img_count+=1\n",
        "   \n",
        "   if(img_count==1000):\n",
        "     break"
      ],
      "metadata": {
        "id": "tcIEtC61dyMe"
      },
      "execution_count": null,
      "outputs": []
    },
    {
      "cell_type": "code",
      "source": [
        "from sklearn import manifold\n",
        "from matplotlib import offsetbox\n",
        "import matplotlib\n",
        "def plot_tsne(x, y, classes, with_pictures=False, name=\"figure.eps\"):\n",
        "  colors = np.asarray(plt.rcParams['axes.prop_cycle'].by_key()['color'])\n",
        "  cmap, norm = matplotlib.colors.from_levels_and_colors(np.arange(0, 9+2), colors[:9+1])\n",
        "  fig, ax=plt.subplots(figsize=(8,8))\n",
        "  #xr=x.reshape(-1, x.shape[1]**2)\n",
        "  tsne = manifold.TSNE(n_components=2, init='pca', random_state=0)\n",
        "  X_tsne = tsne.fit_transform(x)\n",
        "  x_min, x_max = np.min(X_tsne, 0), np.max(X_tsne, 0)\n",
        "  X_tsne = (X_tsne - x_min) / (x_max - x_min)\n",
        "  scatter=ax.scatter(X_tsne[:, 0], X_tsne[:, 1], c=y, marker='o', linewidth=1, cmap=cmap, norm=norm)\n",
        "\n",
        "  legend1 = ax.legend(handles=scatter.legend_elements()[0], labels=classes,\n",
        "                      loc=\"upper left\", title=\"Osztályok\", bbox_to_anchor=(1.04, 1))\n",
        "  ax.add_artist(legend1)\n",
        "  if (hasattr(offsetbox, 'AnnotationBbox') and with_pictures):\n",
        "          # only print thumbnails with matplotlib > 1.0\n",
        "          shown_images = np.array([[1., 1.]])  # just something big\n",
        "          for i in range(X_tsne.shape[0]):\n",
        "              dist = np.sum((X_tsne[i] - shown_images) ** 2, 1)\n",
        "              if np.min(dist) < 4e-3:\n",
        "                  # don't show points that are too close\n",
        "                  continue\n",
        "              shown_images = np.r_[shown_images, [X_tsne[i]]]\n",
        "              imagebox = offsetbox.AnnotationBbox(\n",
        "                  offsetbox.OffsetImage(x[i], zoom=1.5, cmap=plt.cm.gray_r),\n",
        "                  X_tsne[i])\n",
        "              ax.add_artist(imagebox)\n",
        "\n",
        "  plt.savefig(name, format=\"pdf\", bbox_inches='tight', dpi=300)\n",
        "  plt.show()"
      ],
      "metadata": {
        "id": "reDeqo9sd21F"
      },
      "execution_count": null,
      "outputs": []
    },
    {
      "cell_type": "code",
      "source": [
        "encoder=Model(test_model.input, test_model.layers[-4].output)"
      ],
      "metadata": {
        "id": "1DmvrDAohN-N"
      },
      "execution_count": null,
      "outputs": []
    },
    {
      "cell_type": "code",
      "source": [
        "plot_tsne(encoder.predict(test_generator), int_test_labels_df['age'], classes=age_labels, name='age_tsne.pdf')\n",
        "plot_tsne(encoder.predict(test_generator), int_test_labels_df['race'], classes=race_labels, name='race_tsne.pdf')\n",
        "plot_tsne(encoder.predict(test_generator), int_test_labels_df['gender'], classes=gender_labels, name='gender_tsne.pdf')"
      ],
      "metadata": {
        "id": "eoFT5kcXg3wO"
      },
      "execution_count": null,
      "outputs": []
    }
  ]
}